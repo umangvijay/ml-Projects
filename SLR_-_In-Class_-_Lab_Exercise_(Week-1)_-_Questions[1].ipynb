{
 "cells": [
  {
   "cell_type": "markdown",
   "metadata": {
    "id": "rT6LG4MeO5L7"
   },
   "source": [
    "<table align=\"center\" width=100%>\n",
    "    <tr>\n",
    "        <td width=\"15%\">\n",
    "            <img src=\"in_class.png\">\n",
    "        </td>\n",
    "        <td>\n",
    "            <div align=\"center\">\n",
    "                <font color=\"#21618C\" size=8px>\n",
    "                    <b> (Week- 1)\n",
    "                    </b>\n",
    "                </font>\n",
    "            </div>\n",
    "        </td>\n",
    "    </tr>\n",
    "</table>"
   ]
  },
  {
   "cell_type": "markdown",
   "metadata": {
    "id": "lwbHRljiO5L9"
   },
   "source": [
    "### About the data set 1 (Life Expectancy data)\n",
    "\n",
    "The dataset contains information about several health and economic factors that contribute to average life expectancy for different countries. <br> Attribute information: \n",
    "\n",
    "**Country:** Name of the country\n",
    "\n",
    "**Status:** Whether the country is Developed or Developing\n",
    "\n",
    "**Adult_Mortality:** Mortality rate for age group 15-60 out of every 1000 individuals of the population\n",
    "\n",
    "**Infant_Deaths:** Number of infant deaths per 1000 population\n",
    "\n",
    "**Hepatitis:** Hepatitis B (HepB) immunization coverage for 1 year olds (Percentage)\n",
    "\n",
    "**Measles:** Number of reported cases for measles per 1000 from population\n",
    "\n",
    "**BMI:** Average Body Mass Index for entire population\n",
    "\n",
    "**Underfive_Deaths:** Number of deaths under 5 years of age per 1000 population\n",
    "\n",
    "**Polio:** Polio (Pol3) immunization coverage for 1 year olds (Percentage)\n",
    "\n",
    "**Diphtheria:** Diphtheria tetanus toxoid and pertussis (DTP3) immunization coverage for 1 year olds (Percentage)\n",
    "\n",
    "**HIV:** Deaths per 1000 live births due to HIV/AIDS (0-4 years)\n",
    "\n",
    "**GDP:** Gross Domestic Product per capita (in USD)\n",
    "\n",
    "**Population:** Population of the country\n",
    "\n",
    "**Malnourished10_19:** Prevalence of malnutrition among children and adolescents for Age 10 to 19 (Percentage)\n",
    "\n",
    "**Malnourished5_9:** Prevalence of malnutrition among children for Age 5 to 9 (Percentage)\n",
    "\n",
    "**Income_Index:** Human Development Index (HDI) in terms of national income per capita (index ranging from 0 to 1)\n",
    "\n",
    "**Schooling:** Number of years of Schooling\n",
    "\n",
    "**Life_Expectancy:** Life Expectancy in age for the country\n",
    "\n",
    "\n",
    "\n"
   ]
  },
  {
   "cell_type": "markdown",
   "metadata": {
    "id": "MvpaLcOaO5L-"
   },
   "source": [
    "## Table of Content\n",
    "\n",
    "1. **[Bivariate Regression](#Bivariate)**\n",
    "2. **[Multiple Linear Regression (MLR)](#MLR)**\n",
    "3. **[Inferences about slope](#ins)**\n",
    "4. **[Model Evaluation](#ML_eval)**\n",
    "5. **[Assumptions of Linear Regression](#assum)**\n",
    "6. **[Model Performance](#ml_perf)**"
   ]
  },
  {
   "cell_type": "markdown",
   "metadata": {
    "id": "uGqLBDZ6O5L_"
   },
   "source": [
    "**Import the required libraries**"
   ]
  },
  {
   "cell_type": "code",
   "execution_count": 3,
   "metadata": {
    "id": "Hn7g7yzMO5L_"
   },
   "outputs": [],
   "source": [
    "# type your code here\n",
    "import numpy as np\n",
    "import pandas as pd\n",
    "import matplotlib.pyplot as plt\n",
    "import seaborn as sns"
   ]
  },
  {
   "cell_type": "markdown",
   "metadata": {
    "id": "xvtH2jbnO5MA"
   },
   "source": [
    "#### Load the first dataset and check the first five observations\n",
    "\n",
    "Load the csv file and set the first column as index"
   ]
  },
  {
   "cell_type": "code",
   "execution_count": 4,
   "metadata": {
    "id": "MPgBUhd1O5MB"
   },
   "outputs": [
    {
     "data": {
      "text/html": [
       "<div>\n",
       "<style scoped>\n",
       "    .dataframe tbody tr th:only-of-type {\n",
       "        vertical-align: middle;\n",
       "    }\n",
       "\n",
       "    .dataframe tbody tr th {\n",
       "        vertical-align: top;\n",
       "    }\n",
       "\n",
       "    .dataframe thead th {\n",
       "        text-align: right;\n",
       "    }\n",
       "</style>\n",
       "<table border=\"1\" class=\"dataframe\">\n",
       "  <thead>\n",
       "    <tr style=\"text-align: right;\">\n",
       "      <th></th>\n",
       "      <th>Country</th>\n",
       "      <th>Status</th>\n",
       "      <th>Adult_Mortality</th>\n",
       "      <th>Infant_Deaths</th>\n",
       "      <th>Hepatitis</th>\n",
       "      <th>Measles</th>\n",
       "      <th>BMI</th>\n",
       "      <th>Underfive_Deaths</th>\n",
       "      <th>Polio</th>\n",
       "      <th>Diphtheria</th>\n",
       "      <th>HIV</th>\n",
       "      <th>GDP</th>\n",
       "      <th>Population</th>\n",
       "      <th>Malnourished10_19</th>\n",
       "      <th>Malnourished5_9</th>\n",
       "      <th>Income_Index</th>\n",
       "      <th>Schooling</th>\n",
       "      <th>Expected</th>\n",
       "    </tr>\n",
       "  </thead>\n",
       "  <tbody>\n",
       "    <tr>\n",
       "      <th>0</th>\n",
       "      <td>Afghanistan</td>\n",
       "      <td>Developing</td>\n",
       "      <td>263</td>\n",
       "      <td>62</td>\n",
       "      <td>65</td>\n",
       "      <td>1154</td>\n",
       "      <td>19.1</td>\n",
       "      <td>83</td>\n",
       "      <td>6</td>\n",
       "      <td>65</td>\n",
       "      <td>0.1</td>\n",
       "      <td>584.259210</td>\n",
       "      <td>33736494</td>\n",
       "      <td>17.2</td>\n",
       "      <td>17.3</td>\n",
       "      <td>0.479</td>\n",
       "      <td>10.1</td>\n",
       "      <td>65.0</td>\n",
       "    </tr>\n",
       "    <tr>\n",
       "      <th>1</th>\n",
       "      <td>Albania</td>\n",
       "      <td>Developing</td>\n",
       "      <td>8</td>\n",
       "      <td>0</td>\n",
       "      <td>98</td>\n",
       "      <td>0</td>\n",
       "      <td>57.2</td>\n",
       "      <td>1</td>\n",
       "      <td>98</td>\n",
       "      <td>98</td>\n",
       "      <td>0.1</td>\n",
       "      <td>4575.763787</td>\n",
       "      <td>288914</td>\n",
       "      <td>1.2</td>\n",
       "      <td>1.3</td>\n",
       "      <td>0.761</td>\n",
       "      <td>14.2</td>\n",
       "      <td>77.5</td>\n",
       "    </tr>\n",
       "    <tr>\n",
       "      <th>2</th>\n",
       "      <td>Algeria</td>\n",
       "      <td>Developing</td>\n",
       "      <td>19</td>\n",
       "      <td>21</td>\n",
       "      <td>95</td>\n",
       "      <td>63</td>\n",
       "      <td>59.5</td>\n",
       "      <td>24</td>\n",
       "      <td>95</td>\n",
       "      <td>95</td>\n",
       "      <td>0.1</td>\n",
       "      <td>4132.762920</td>\n",
       "      <td>39871528</td>\n",
       "      <td>6.0</td>\n",
       "      <td>5.8</td>\n",
       "      <td>0.743</td>\n",
       "      <td>14.4</td>\n",
       "      <td>75.6</td>\n",
       "    </tr>\n",
       "    <tr>\n",
       "      <th>3</th>\n",
       "      <td>Angola</td>\n",
       "      <td>Developing</td>\n",
       "      <td>335</td>\n",
       "      <td>66</td>\n",
       "      <td>64</td>\n",
       "      <td>118</td>\n",
       "      <td>23.3</td>\n",
       "      <td>98</td>\n",
       "      <td>7</td>\n",
       "      <td>64</td>\n",
       "      <td>1.9</td>\n",
       "      <td>3695.793748</td>\n",
       "      <td>2785935</td>\n",
       "      <td>8.3</td>\n",
       "      <td>8.2</td>\n",
       "      <td>0.531</td>\n",
       "      <td>11.4</td>\n",
       "      <td>52.4</td>\n",
       "    </tr>\n",
       "    <tr>\n",
       "      <th>4</th>\n",
       "      <td>Argentina</td>\n",
       "      <td>Developing</td>\n",
       "      <td>116</td>\n",
       "      <td>8</td>\n",
       "      <td>94</td>\n",
       "      <td>0</td>\n",
       "      <td>62.8</td>\n",
       "      <td>9</td>\n",
       "      <td>93</td>\n",
       "      <td>94</td>\n",
       "      <td>0.1</td>\n",
       "      <td>13467.123600</td>\n",
       "      <td>43417765</td>\n",
       "      <td>1.0</td>\n",
       "      <td>0.9</td>\n",
       "      <td>0.826</td>\n",
       "      <td>17.3</td>\n",
       "      <td>76.3</td>\n",
       "    </tr>\n",
       "  </tbody>\n",
       "</table>\n",
       "</div>"
      ],
      "text/plain": [
       "       Country      Status  Adult_Mortality  Infant_Deaths  Hepatitis   \\\n",
       "0  Afghanistan  Developing              263             62          65   \n",
       "1      Albania  Developing                8              0          98   \n",
       "2      Algeria  Developing               19             21          95   \n",
       "3       Angola  Developing              335             66          64   \n",
       "4    Argentina  Developing              116              8          94   \n",
       "\n",
       "   Measles    BMI   Underfive_Deaths   Polio  Diphtheria    HIV           GDP  \\\n",
       "0      1154   19.1                 83      6           65   0.1    584.259210   \n",
       "1         0   57.2                  1     98           98   0.1   4575.763787   \n",
       "2        63   59.5                 24     95           95   0.1   4132.762920   \n",
       "3       118   23.3                 98      7           64   1.9   3695.793748   \n",
       "4         0   62.8                  9     93           94   0.1  13467.123600   \n",
       "\n",
       "   Population  Malnourished10_19   Malnourished5_9  Income_Index  Schooling  \\\n",
       "0    33736494                17.2             17.3         0.479       10.1   \n",
       "1      288914                 1.2              1.3         0.761       14.2   \n",
       "2    39871528                 6.0              5.8         0.743       14.4   \n",
       "3     2785935                 8.3              8.2         0.531       11.4   \n",
       "4    43417765                 1.0              0.9         0.826       17.3   \n",
       "\n",
       "   Expected  \n",
       "0      65.0  \n",
       "1      77.5  \n",
       "2      75.6  \n",
       "3      52.4  \n",
       "4      76.3  "
      ]
     },
     "execution_count": 4,
     "metadata": {},
     "output_type": "execute_result"
    }
   ],
   "source": [
    "# load the csv file\n",
    "\n",
    "# type your code here\n",
    "\n",
    "df= pd.read_csv(\"Life_Expectancy.csv\")\n",
    "df.head()"
   ]
  },
  {
   "cell_type": "markdown",
   "metadata": {
    "id": "PSLxiiJDO5MB"
   },
   "source": [
    "### Let's begin with some hands-on practice exercises"
   ]
  },
  {
   "cell_type": "markdown",
   "metadata": {
    "id": "3nQ-XAUKO5MC"
   },
   "source": [
    "<a id=\"Bivariate\"> </a>\n",
    "## 1. Bivariate Regression"
   ]
  },
  {
   "cell_type": "markdown",
   "metadata": {
    "id": "jZbRMMufO5MC"
   },
   "source": [
    "## We shall use the life expectancy dataset"
   ]
  },
  {
   "cell_type": "markdown",
   "metadata": {
    "collapsed": true,
    "id": "BuVRq0FaO5MD",
    "jupyter": {
     "outputs_hidden": true
    }
   },
   "source": [
    "<table align=\"left\">\n",
    "    <tr>\n",
    "        <td width=\"6%\">\n",
    "            <img src=\"question_icon.png\">\n",
    "        </td>\n",
    "        <td>\n",
    "            <div align=\"left\", style=\"font-size:120%\">\n",
    "                <font color=\"#21618C\">\n",
    "                    <b>1. How do we analyze the impact of adult mortality rate on average life expectancy of a country?</b>\n",
    "                </font>\n",
    "            </div>\n",
    "        </td>\n",
    "    </tr>\n",
    "</table>"
   ]
  },
  {
   "cell_type": "code",
   "execution_count": 5,
   "metadata": {},
   "outputs": [
    {
     "data": {
      "text/plain": [
       "(124, 18)"
      ]
     },
     "execution_count": 5,
     "metadata": {},
     "output_type": "execute_result"
    }
   ],
   "source": [
    "df.shape"
   ]
  },
  {
   "cell_type": "code",
   "execution_count": 6,
   "metadata": {},
   "outputs": [
    {
     "name": "stdout",
     "output_type": "stream",
     "text": [
      "<class 'pandas.core.frame.DataFrame'>\n",
      "RangeIndex: 124 entries, 0 to 123\n",
      "Data columns (total 18 columns):\n",
      " #   Column              Non-Null Count  Dtype  \n",
      "---  ------              --------------  -----  \n",
      " 0   Country             124 non-null    object \n",
      " 1   Status              124 non-null    object \n",
      " 2   Adult_Mortality     124 non-null    int64  \n",
      " 3   Infant_Deaths       124 non-null    int64  \n",
      " 4   Hepatitis           124 non-null    int64  \n",
      " 5   Measles             124 non-null    int64  \n",
      " 6    BMI                124 non-null    float64\n",
      " 7   Underfive_Deaths    124 non-null    int64  \n",
      " 8   Polio               124 non-null    int64  \n",
      " 9   Diphtheria          124 non-null    int64  \n",
      " 10   HIV                124 non-null    float64\n",
      " 11  GDP                 124 non-null    float64\n",
      " 12  Population          124 non-null    int64  \n",
      " 13  Malnourished10_19   124 non-null    float64\n",
      " 14  Malnourished5_9     124 non-null    float64\n",
      " 15  Income_Index        124 non-null    float64\n",
      " 16  Schooling           124 non-null    float64\n",
      " 17  Expected            124 non-null    float64\n",
      "dtypes: float64(8), int64(8), object(2)\n",
      "memory usage: 17.6+ KB\n"
     ]
    }
   ],
   "source": [
    "df.info()"
   ]
  },
  {
   "cell_type": "code",
   "execution_count": 7,
   "metadata": {},
   "outputs": [
    {
     "data": {
      "text/html": [
       "<div>\n",
       "<style scoped>\n",
       "    .dataframe tbody tr th:only-of-type {\n",
       "        vertical-align: middle;\n",
       "    }\n",
       "\n",
       "    .dataframe tbody tr th {\n",
       "        vertical-align: top;\n",
       "    }\n",
       "\n",
       "    .dataframe thead th {\n",
       "        text-align: right;\n",
       "    }\n",
       "</style>\n",
       "<table border=\"1\" class=\"dataframe\">\n",
       "  <thead>\n",
       "    <tr style=\"text-align: right;\">\n",
       "      <th></th>\n",
       "      <th>Adult_Mortality</th>\n",
       "      <th>Infant_Deaths</th>\n",
       "      <th>Hepatitis</th>\n",
       "      <th>Measles</th>\n",
       "      <th>BMI</th>\n",
       "      <th>Underfive_Deaths</th>\n",
       "      <th>Polio</th>\n",
       "      <th>Diphtheria</th>\n",
       "      <th>HIV</th>\n",
       "      <th>GDP</th>\n",
       "      <th>Population</th>\n",
       "      <th>Malnourished10_19</th>\n",
       "      <th>Malnourished5_9</th>\n",
       "      <th>Income_Index</th>\n",
       "      <th>Schooling</th>\n",
       "      <th>Expected</th>\n",
       "    </tr>\n",
       "  </thead>\n",
       "  <tbody>\n",
       "    <tr>\n",
       "      <th>count</th>\n",
       "      <td>124.000000</td>\n",
       "      <td>124.000000</td>\n",
       "      <td>124.000000</td>\n",
       "      <td>124.000000</td>\n",
       "      <td>124.000000</td>\n",
       "      <td>124.000000</td>\n",
       "      <td>124.000000</td>\n",
       "      <td>124.000000</td>\n",
       "      <td>124.000000</td>\n",
       "      <td>124.000000</td>\n",
       "      <td>1.240000e+02</td>\n",
       "      <td>124.000000</td>\n",
       "      <td>124.000000</td>\n",
       "      <td>124.000000</td>\n",
       "      <td>124.000000</td>\n",
       "      <td>124.000000</td>\n",
       "    </tr>\n",
       "    <tr>\n",
       "      <th>mean</th>\n",
       "      <td>160.475806</td>\n",
       "      <td>27.637097</td>\n",
       "      <td>85.104839</td>\n",
       "      <td>2841.637097</td>\n",
       "      <td>41.733871</td>\n",
       "      <td>36.798387</td>\n",
       "      <td>86.637097</td>\n",
       "      <td>87.919355</td>\n",
       "      <td>0.819355</td>\n",
       "      <td>6866.816502</td>\n",
       "      <td>1.960604e+07</td>\n",
       "      <td>4.180645</td>\n",
       "      <td>4.373387</td>\n",
       "      <td>0.690685</td>\n",
       "      <td>13.085484</td>\n",
       "      <td>71.220968</td>\n",
       "    </tr>\n",
       "    <tr>\n",
       "      <th>std</th>\n",
       "      <td>101.794506</td>\n",
       "      <td>94.347510</td>\n",
       "      <td>20.839229</td>\n",
       "      <td>11517.586950</td>\n",
       "      <td>21.186385</td>\n",
       "      <td>122.248912</td>\n",
       "      <td>21.653342</td>\n",
       "      <td>19.122879</td>\n",
       "      <td>1.764127</td>\n",
       "      <td>10885.243579</td>\n",
       "      <td>4.100762e+07</td>\n",
       "      <td>4.086736</td>\n",
       "      <td>4.212797</td>\n",
       "      <td>0.168296</td>\n",
       "      <td>2.909242</td>\n",
       "      <td>8.467924</td>\n",
       "    </tr>\n",
       "    <tr>\n",
       "      <th>min</th>\n",
       "      <td>3.000000</td>\n",
       "      <td>0.000000</td>\n",
       "      <td>6.000000</td>\n",
       "      <td>0.000000</td>\n",
       "      <td>2.100000</td>\n",
       "      <td>0.000000</td>\n",
       "      <td>6.000000</td>\n",
       "      <td>6.000000</td>\n",
       "      <td>0.100000</td>\n",
       "      <td>5.668726</td>\n",
       "      <td>8.381000e+03</td>\n",
       "      <td>0.300000</td>\n",
       "      <td>0.200000</td>\n",
       "      <td>0.332000</td>\n",
       "      <td>5.300000</td>\n",
       "      <td>48.600000</td>\n",
       "    </tr>\n",
       "    <tr>\n",
       "      <th>25%</th>\n",
       "      <td>73.500000</td>\n",
       "      <td>1.000000</td>\n",
       "      <td>82.000000</td>\n",
       "      <td>0.750000</td>\n",
       "      <td>20.950000</td>\n",
       "      <td>1.000000</td>\n",
       "      <td>88.000000</td>\n",
       "      <td>89.000000</td>\n",
       "      <td>0.100000</td>\n",
       "      <td>639.799727</td>\n",
       "      <td>8.215560e+05</td>\n",
       "      <td>1.500000</td>\n",
       "      <td>1.575000</td>\n",
       "      <td>0.551500</td>\n",
       "      <td>10.875000</td>\n",
       "      <td>65.175000</td>\n",
       "    </tr>\n",
       "    <tr>\n",
       "      <th>50%</th>\n",
       "      <td>139.500000</td>\n",
       "      <td>10.000000</td>\n",
       "      <td>94.000000</td>\n",
       "      <td>37.000000</td>\n",
       "      <td>54.100000</td>\n",
       "      <td>12.000000</td>\n",
       "      <td>95.000000</td>\n",
       "      <td>95.000000</td>\n",
       "      <td>0.100000</td>\n",
       "      <td>2728.291765</td>\n",
       "      <td>4.234054e+06</td>\n",
       "      <td>2.400000</td>\n",
       "      <td>2.800000</td>\n",
       "      <td>0.740000</td>\n",
       "      <td>13.300000</td>\n",
       "      <td>72.200000</td>\n",
       "    </tr>\n",
       "    <tr>\n",
       "      <th>75%</th>\n",
       "      <td>234.000000</td>\n",
       "      <td>21.000000</td>\n",
       "      <td>97.000000</td>\n",
       "      <td>588.750000</td>\n",
       "      <td>59.750000</td>\n",
       "      <td>26.500000</td>\n",
       "      <td>98.000000</td>\n",
       "      <td>98.000000</td>\n",
       "      <td>0.400000</td>\n",
       "      <td>8437.562893</td>\n",
       "      <td>1.482767e+07</td>\n",
       "      <td>6.425000</td>\n",
       "      <td>6.425000</td>\n",
       "      <td>0.799000</td>\n",
       "      <td>15.000000</td>\n",
       "      <td>77.500000</td>\n",
       "    </tr>\n",
       "    <tr>\n",
       "      <th>max</th>\n",
       "      <td>438.000000</td>\n",
       "      <td>910.000000</td>\n",
       "      <td>99.000000</td>\n",
       "      <td>90387.000000</td>\n",
       "      <td>71.400000</td>\n",
       "      <td>1100.000000</td>\n",
       "      <td>99.000000</td>\n",
       "      <td>99.000000</td>\n",
       "      <td>8.100000</td>\n",
       "      <td>56554.387600</td>\n",
       "      <td>2.581621e+08</td>\n",
       "      <td>26.700000</td>\n",
       "      <td>27.300000</td>\n",
       "      <td>0.945000</td>\n",
       "      <td>20.400000</td>\n",
       "      <td>86.000000</td>\n",
       "    </tr>\n",
       "  </tbody>\n",
       "</table>\n",
       "</div>"
      ],
      "text/plain": [
       "       Adult_Mortality  Infant_Deaths  Hepatitis       Measles         BMI   \\\n",
       "count       124.000000     124.000000  124.000000    124.000000  124.000000   \n",
       "mean        160.475806      27.637097   85.104839   2841.637097   41.733871   \n",
       "std         101.794506      94.347510   20.839229  11517.586950   21.186385   \n",
       "min           3.000000       0.000000    6.000000      0.000000    2.100000   \n",
       "25%          73.500000       1.000000   82.000000      0.750000   20.950000   \n",
       "50%         139.500000      10.000000   94.000000     37.000000   54.100000   \n",
       "75%         234.000000      21.000000   97.000000    588.750000   59.750000   \n",
       "max         438.000000     910.000000   99.000000  90387.000000   71.400000   \n",
       "\n",
       "       Underfive_Deaths        Polio  Diphtheria          HIV           GDP  \\\n",
       "count         124.000000  124.000000   124.000000  124.000000    124.000000   \n",
       "mean           36.798387   86.637097    87.919355    0.819355   6866.816502   \n",
       "std           122.248912   21.653342    19.122879    1.764127  10885.243579   \n",
       "min             0.000000    6.000000     6.000000    0.100000      5.668726   \n",
       "25%             1.000000   88.000000    89.000000    0.100000    639.799727   \n",
       "50%            12.000000   95.000000    95.000000    0.100000   2728.291765   \n",
       "75%            26.500000   98.000000    98.000000    0.400000   8437.562893   \n",
       "max          1100.000000   99.000000    99.000000    8.100000  56554.387600   \n",
       "\n",
       "         Population  Malnourished10_19   Malnourished5_9  Income_Index  \\\n",
       "count  1.240000e+02          124.000000       124.000000    124.000000   \n",
       "mean   1.960604e+07            4.180645         4.373387      0.690685   \n",
       "std    4.100762e+07            4.086736         4.212797      0.168296   \n",
       "min    8.381000e+03            0.300000         0.200000      0.332000   \n",
       "25%    8.215560e+05            1.500000         1.575000      0.551500   \n",
       "50%    4.234054e+06            2.400000         2.800000      0.740000   \n",
       "75%    1.482767e+07            6.425000         6.425000      0.799000   \n",
       "max    2.581621e+08           26.700000        27.300000      0.945000   \n",
       "\n",
       "        Schooling    Expected  \n",
       "count  124.000000  124.000000  \n",
       "mean    13.085484   71.220968  \n",
       "std      2.909242    8.467924  \n",
       "min      5.300000   48.600000  \n",
       "25%     10.875000   65.175000  \n",
       "50%     13.300000   72.200000  \n",
       "75%     15.000000   77.500000  \n",
       "max     20.400000   86.000000  "
      ]
     },
     "execution_count": 7,
     "metadata": {},
     "output_type": "execute_result"
    }
   ],
   "source": [
    "df.describe()"
   ]
  },
  {
   "cell_type": "code",
   "execution_count": 8,
   "metadata": {},
   "outputs": [
    {
     "data": {
      "text/plain": [
       "Index(['Country', 'Status', 'Adult_Mortality', 'Infant_Deaths', 'Hepatitis ',\n",
       "       'Measles ', ' BMI ', 'Underfive_Deaths ', 'Polio', 'Diphtheria ',\n",
       "       ' HIV', 'GDP', 'Population', 'Malnourished10_19 ', 'Malnourished5_9',\n",
       "       'Income_Index', 'Schooling', 'Expected'],\n",
       "      dtype='object')"
      ]
     },
     "execution_count": 8,
     "metadata": {},
     "output_type": "execute_result"
    }
   ],
   "source": [
    "df.columns"
   ]
  },
  {
   "cell_type": "code",
   "execution_count": 9,
   "metadata": {
    "id": "vOO3WH-yO5MD"
   },
   "outputs": [
    {
     "data": {
      "text/plain": [
       "<Axes: xlabel='Adult_Mortality', ylabel='Expected'>"
      ]
     },
     "execution_count": 9,
     "metadata": {},
     "output_type": "execute_result"
    },
    {
     "data": {
      "image/png": "[encoded data removed]",
      "text/plain": [
       "<Figure size 640x480 with 1 Axes>"
      ]
     },
     "metadata": {},
     "output_type": "display_data"
    }
   ],
   "source": [
    "# type your code here\n",
    "sns.scatterplot(x=df['Adult_Mortality'],y=df['Expected'])"
   ]
  },
  {
   "cell_type": "markdown",
   "metadata": {
    "collapsed": true,
    "id": "BPep3bI9O5ME",
    "jupyter": {
     "outputs_hidden": true
    }
   },
   "source": [
    "<table align=\"left\">\n",
    "    <tr>\n",
    "        <td width=\"6%\">\n",
    "            <img src=\"question_icon.png\">\n",
    "        </td>\n",
    "        <td>\n",
    "            <div align=\"left\", style=\"font-size:120%\">\n",
    "                <font color=\"#21618C\">\n",
    "                    <b>2. A regression model is built to check the impact of Human Development Index (Income) on the life expectancy of a nation. What is the expected error value?</b>\n",
    "                </font>\n",
    "            </div>\n",
    "        </td>\n",
    "    </tr>\n",
    "</table>"
   ]
  },
  {
   "cell_type": "code",
   "execution_count": 10,
   "metadata": {},
   "outputs": [],
   "source": [
    "import statsmodels\n",
    "import statsmodels.api as sm"
   ]
  },
  {
   "cell_type": "code",
   "execution_count": 11,
   "metadata": {
    "id": "K5OGcYbDO5ME"
   },
   "outputs": [
    {
     "data": {
      "text/html": [
       "<table class=\"simpletable\">\n",
       "<caption>OLS Regression Results</caption>\n",
       "<tr>\n",
       "  <th>Dep. Variable:</th>        <td>Expected</td>     <th>  R-squared:         </th> <td>   0.711</td>\n",
       "</tr>\n",
       "<tr>\n",
       "  <th>Model:</th>                   <td>OLS</td>       <th>  Adj. R-squared:    </th> <td>   0.709</td>\n",
       "</tr>\n",
       "<tr>\n",
       "  <th>Method:</th>             <td>Least Squares</td>  <th>  F-statistic:       </th> <td>   300.0</td>\n",
       "</tr>\n",
       "<tr>\n",
       "  <th>Date:</th>             <td>Thu, 20 Feb 2025</td> <th>  Prob (F-statistic):</th> <td>1.13e-34</td>\n",
       "</tr>\n",
       "<tr>\n",
       "  <th>Time:</th>                 <td>09:09:09</td>     <th>  Log-Likelihood:    </th> <td> -363.40</td>\n",
       "</tr>\n",
       "<tr>\n",
       "  <th>No. Observations:</th>      <td>   124</td>      <th>  AIC:               </th> <td>   730.8</td>\n",
       "</tr>\n",
       "<tr>\n",
       "  <th>Df Residuals:</th>          <td>   122</td>      <th>  BIC:               </th> <td>   736.4</td>\n",
       "</tr>\n",
       "<tr>\n",
       "  <th>Df Model:</th>              <td>     1</td>      <th>                     </th>     <td> </td>   \n",
       "</tr>\n",
       "<tr>\n",
       "  <th>Covariance Type:</th>      <td>nonrobust</td>    <th>                     </th>     <td> </td>   \n",
       "</tr>\n",
       "</table>\n",
       "<table class=\"simpletable\">\n",
       "<tr>\n",
       "        <td></td>          <th>coef</th>     <th>std err</th>      <th>t</th>      <th>P>|t|</th>  <th>[0.025</th>    <th>0.975]</th>  \n",
       "</tr>\n",
       "<tr>\n",
       "  <th>const</th>        <td>   41.9191</td> <td>    1.741</td> <td>   24.081</td> <td> 0.000</td> <td>   38.473</td> <td>   45.365</td>\n",
       "</tr>\n",
       "<tr>\n",
       "  <th>Income_Index</th> <td>   42.4243</td> <td>    2.449</td> <td>   17.322</td> <td> 0.000</td> <td>   37.576</td> <td>   47.273</td>\n",
       "</tr>\n",
       "</table>\n",
       "<table class=\"simpletable\">\n",
       "<tr>\n",
       "  <th>Omnibus:</th>       <td>11.870</td> <th>  Durbin-Watson:     </th> <td>   1.355</td>\n",
       "</tr>\n",
       "<tr>\n",
       "  <th>Prob(Omnibus):</th> <td> 0.003</td> <th>  Jarque-Bera (JB):  </th> <td>  26.475</td>\n",
       "</tr>\n",
       "<tr>\n",
       "  <th>Skew:</th>          <td> 0.280</td> <th>  Prob(JB):          </th> <td>1.78e-06</td>\n",
       "</tr>\n",
       "<tr>\n",
       "  <th>Kurtosis:</th>      <td> 5.193</td> <th>  Cond. No.          </th> <td>    8.87</td>\n",
       "</tr>\n",
       "</table><br/><br/>Notes:<br/>[1] Standard Errors assume that the covariance matrix of the errors is correctly specified."
      ],
      "text/latex": [
       "\\begin{center}\n",
       "\\begin{tabular}{lclc}\n",
       "\\toprule\n",
       "\\textbf{Dep. Variable:}    &     Expected     & \\textbf{  R-squared:         } &     0.711   \\\\\n",
       "\\textbf{Model:}            &       OLS        & \\textbf{  Adj. R-squared:    } &     0.709   \\\\\n",
       "\\textbf{Method:}           &  Least Squares   & \\textbf{  F-statistic:       } &     300.0   \\\\\n",
       "\\textbf{Date:}             & Thu, 20 Feb 2025 & \\textbf{  Prob (F-statistic):} &  1.13e-34   \\\\\n",
       "\\textbf{Time:}             &     09:09:09     & \\textbf{  Log-Likelihood:    } &   -363.40   \\\\\n",
       "\\textbf{No. Observations:} &         124      & \\textbf{  AIC:               } &     730.8   \\\\\n",
       "\\textbf{Df Residuals:}     &         122      & \\textbf{  BIC:               } &     736.4   \\\\\n",
       "\\textbf{Df Model:}         &           1      & \\textbf{                     } &             \\\\\n",
       "\\textbf{Covariance Type:}  &    nonrobust     & \\textbf{                     } &             \\\\\n",
       "\\bottomrule\n",
       "\\end{tabular}\n",
       "\\begin{tabular}{lcccccc}\n",
       "                       & \\textbf{coef} & \\textbf{std err} & \\textbf{t} & \\textbf{P$> |$t$|$} & \\textbf{[0.025} & \\textbf{0.975]}  \\\\\n",
       "\\midrule\n",
       "\\textbf{const}         &      41.9191  &        1.741     &    24.081  &         0.000        &       38.473    &       45.365     \\\\\n",
       "\\textbf{Income\\_Index} &      42.4243  &        2.449     &    17.322  &         0.000        &       37.576    &       47.273     \\\\\n",
       "\\bottomrule\n",
       "\\end{tabular}\n",
       "\\begin{tabular}{lclc}\n",
       "\\textbf{Omnibus:}       & 11.870 & \\textbf{  Durbin-Watson:     } &    1.355  \\\\\n",
       "\\textbf{Prob(Omnibus):} &  0.003 & \\textbf{  Jarque-Bera (JB):  } &   26.475  \\\\\n",
       "\\textbf{Skew:}          &  0.280 & \\textbf{  Prob(JB):          } & 1.78e-06  \\\\\n",
       "\\textbf{Kurtosis:}      &  5.193 & \\textbf{  Cond. No.          } &     8.87  \\\\\n",
       "\\bottomrule\n",
       "\\end{tabular}\n",
       "%\\caption{OLS Regression Results}\n",
       "\\end{center}\n",
       "\n",
       "Notes: \\newline\n",
       " [1] Standard Errors assume that the covariance matrix of the errors is correctly specified."
      ],
      "text/plain": [
       "<class 'statsmodels.iolib.summary.Summary'>\n",
       "\"\"\"\n",
       "                            OLS Regression Results                            \n",
       "==============================================================================\n",
       "Dep. Variable:               Expected   R-squared:                       0.711\n",
       "Model:                            OLS   Adj. R-squared:                  0.709\n",
       "Method:                 Least Squares   F-statistic:                     300.0\n",
       "Date:                Thu, 20 Feb 2025   Prob (F-statistic):           1.13e-34\n",
       "Time:                        09:09:09   Log-Likelihood:                -363.40\n",
       "No. Observations:                 124   AIC:                             730.8\n",
       "Df Residuals:                     122   BIC:                             736.4\n",
       "Df Model:                           1                                         \n",
       "Covariance Type:            nonrobust                                         \n",
       "================================================================================\n",
       "                   coef    std err          t      P>|t|      [0.025      0.975]\n",
       "--------------------------------------------------------------------------------\n",
       "const           41.9191      1.741     24.081      0.000      38.473      45.365\n",
       "Income_Index    42.4243      2.449     17.322      0.000      37.576      47.273\n",
       "==============================================================================\n",
       "Omnibus:                       11.870   Durbin-Watson:                   1.355\n",
       "Prob(Omnibus):                  0.003   Jarque-Bera (JB):               26.475\n",
       "Skew:                           0.280   Prob(JB):                     1.78e-06\n",
       "Kurtosis:                       5.193   Cond. No.                         8.87\n",
       "==============================================================================\n",
       "\n",
       "Notes:\n",
       "[1] Standard Errors assume that the covariance matrix of the errors is correctly specified.\n",
       "\"\"\""
      ]
     },
     "execution_count": 11,
     "metadata": {},
     "output_type": "execute_result"
    }
   ],
   "source": [
    "x=df['Income_Index']\n",
    "y=df['Expected']\n",
    "X_const = sm.add_constant(x)\n",
    "SLR_model = sm.OLS(y,X_const).fit()\n",
    "SLR_model.summary()"
   ]
  },
  {
   "cell_type": "code",
   "execution_count": 12,
   "metadata": {},
   "outputs": [
    {
     "name": "stdout",
     "output_type": "stream",
     "text": [
      "0       2.759637\n",
      "1       3.295989\n",
      "2       2.159626\n",
      "3     -12.046426\n",
      "4      -0.661589\n",
      "         ...    \n",
      "119    -3.079753\n",
      "120    -4.258540\n",
      "121    -5.149449\n",
      "122     0.529340\n",
      "123    -7.403993\n",
      "Length: 124, dtype: float64\n"
     ]
    }
   ],
   "source": [
    "# type your code here\n",
    "y_pred = SLR_model.predict(X_const)\n",
    "residuals = y-y_pred\n",
    "print(residuals)"
   ]
  },
  {
   "cell_type": "code",
   "execution_count": 13,
   "metadata": {},
   "outputs": [],
   "source": [
    "MSE = np.sum(residuals**2)/len(df)"
   ]
  },
  {
   "cell_type": "code",
   "execution_count": 14,
   "metadata": {},
   "outputs": [
    {
     "data": {
      "text/plain": [
       "np.float64(4.534442387966918)"
      ]
     },
     "execution_count": 14,
     "metadata": {},
     "output_type": "execute_result"
    }
   ],
   "source": [
    "RSME = np.sqrt(MSE)\n",
    "RSME"
   ]
  },
  {
   "cell_type": "markdown",
   "metadata": {
    "id": "jCDCNMaHO5MF"
   },
   "source": [
    "<a id=\"MLR\"> </a>\n",
    "## 2. Multiple Linear Regression(MLR)"
   ]
  },
  {
   "cell_type": "markdown",
   "metadata": {
    "collapsed": true,
    "id": "ReE0XhiEO5MF",
    "jupyter": {
     "outputs_hidden": true
    }
   },
   "source": [
    "<table align=\"left\">\n",
    "    <tr>\n",
    "        <td width=\"6%\">\n",
    "            <img src=\"question_icon.png\">\n",
    "        </td>\n",
    "        <td>\n",
    "            <div align=\"left\", style=\"font-size:120%\">\n",
    "                <font color=\"#21618C\">\n",
    "                    <b>3. Analyze the impact of immunization on life expectancy. </b>\n",
    "                </font>\n",
    "            </div>\n",
    "        </td>\n",
    "9\"    </tr>\n",
    "</table>'"
   ]
  },
  {
   "cell_type": "code",
   "execution_count": 15,
   "metadata": {},
   "outputs": [
    {
     "data": {
      "text/plain": [
       "Index(['Country', 'Status', 'Adult_Mortality', 'Infant_Deaths', 'Hepatitis ',\n",
       "       'Measles ', ' BMI ', 'Underfive_Deaths ', 'Polio', 'Diphtheria ',\n",
       "       ' HIV', 'GDP', 'Population', 'Malnourished10_19 ', 'Malnourished5_9',\n",
       "       'Income_Index', 'Schooling', 'Expected'],\n",
       "      dtype='object')"
      ]
     },
     "execution_count": 15,
     "metadata": {},
     "output_type": "execute_result"
    }
   ],
   "source": [
    "df.columns"
   ]
  },
  {
   "cell_type": "code",
   "execution_count": 16,
   "metadata": {},
   "outputs": [
    {
     "data": {
      "text/html": [
       "<table class=\"simpletable\">\n",
       "<caption>OLS Regression Results</caption>\n",
       "<tr>\n",
       "  <th>Dep. Variable:</th>        <td>Expected</td>     <th>  R-squared:         </th> <td>   0.138</td>\n",
       "</tr>\n",
       "<tr>\n",
       "  <th>Model:</th>                   <td>OLS</td>       <th>  Adj. R-squared:    </th> <td>   0.116</td>\n",
       "</tr>\n",
       "<tr>\n",
       "  <th>Method:</th>             <td>Least Squares</td>  <th>  F-statistic:       </th> <td>   6.395</td>\n",
       "</tr>\n",
       "<tr>\n",
       "  <th>Date:</th>             <td>Thu, 20 Feb 2025</td> <th>  Prob (F-statistic):</th> <td>0.000468</td>\n",
       "</tr>\n",
       "<tr>\n",
       "  <th>Time:</th>                 <td>09:09:09</td>     <th>  Log-Likelihood:    </th> <td> -431.15</td>\n",
       "</tr>\n",
       "<tr>\n",
       "  <th>No. Observations:</th>      <td>   124</td>      <th>  AIC:               </th> <td>   870.3</td>\n",
       "</tr>\n",
       "<tr>\n",
       "  <th>Df Residuals:</th>          <td>   120</td>      <th>  BIC:               </th> <td>   881.6</td>\n",
       "</tr>\n",
       "<tr>\n",
       "  <th>Df Model:</th>              <td>     3</td>      <th>                     </th>     <td> </td>   \n",
       "</tr>\n",
       "<tr>\n",
       "  <th>Covariance Type:</th>      <td>nonrobust</td>    <th>                     </th>     <td> </td>   \n",
       "</tr>\n",
       "</table>\n",
       "<table class=\"simpletable\">\n",
       "<tr>\n",
       "       <td></td>          <th>coef</th>     <th>std err</th>      <th>t</th>      <th>P>|t|</th>  <th>[0.025</th>    <th>0.975]</th>  \n",
       "</tr>\n",
       "<tr>\n",
       "  <th>const</th>       <td>   57.9881</td> <td>    3.524</td> <td>   16.453</td> <td> 0.000</td> <td>   51.010</td> <td>   64.966</td>\n",
       "</tr>\n",
       "<tr>\n",
       "  <th>Hepatitis </th>  <td>   -0.1037</td> <td>    0.068</td> <td>   -1.528</td> <td> 0.129</td> <td>   -0.238</td> <td>    0.031</td>\n",
       "</tr>\n",
       "<tr>\n",
       "  <th>Polio</th>       <td>    0.0910</td> <td>    0.043</td> <td>    2.099</td> <td> 0.038</td> <td>    0.005</td> <td>    0.177</td>\n",
       "</tr>\n",
       "<tr>\n",
       "  <th>Diphtheria </th> <td>    0.1613</td> <td>    0.082</td> <td>    1.969</td> <td> 0.051</td> <td>   -0.001</td> <td>    0.323</td>\n",
       "</tr>\n",
       "</table>\n",
       "<table class=\"simpletable\">\n",
       "<tr>\n",
       "  <th>Omnibus:</th>       <td> 4.513</td> <th>  Durbin-Watson:     </th> <td>   1.000</td>\n",
       "</tr>\n",
       "<tr>\n",
       "  <th>Prob(Omnibus):</th> <td> 0.105</td> <th>  Jarque-Bera (JB):  </th> <td>   4.279</td>\n",
       "</tr>\n",
       "<tr>\n",
       "  <th>Skew:</th>          <td>-0.396</td> <th>  Prob(JB):          </th> <td>   0.118</td>\n",
       "</tr>\n",
       "<tr>\n",
       "  <th>Kurtosis:</th>      <td> 2.550</td> <th>  Cond. No.          </th> <td>    755.</td>\n",
       "</tr>\n",
       "</table><br/><br/>Notes:<br/>[1] Standard Errors assume that the covariance matrix of the errors is correctly specified."
      ],
      "text/latex": [
       "\\begin{center}\n",
       "\\begin{tabular}{lclc}\n",
       "\\toprule\n",
       "\\textbf{Dep. Variable:}    &     Expected     & \\textbf{  R-squared:         } &     0.138   \\\\\n",
       "\\textbf{Model:}            &       OLS        & \\textbf{  Adj. R-squared:    } &     0.116   \\\\\n",
       "\\textbf{Method:}           &  Least Squares   & \\textbf{  F-statistic:       } &     6.395   \\\\\n",
       "\\textbf{Date:}             & Thu, 20 Feb 2025 & \\textbf{  Prob (F-statistic):} &  0.000468   \\\\\n",
       "\\textbf{Time:}             &     09:09:09     & \\textbf{  Log-Likelihood:    } &   -431.15   \\\\\n",
       "\\textbf{No. Observations:} &         124      & \\textbf{  AIC:               } &     870.3   \\\\\n",
       "\\textbf{Df Residuals:}     &         120      & \\textbf{  BIC:               } &     881.6   \\\\\n",
       "\\textbf{Df Model:}         &           3      & \\textbf{                     } &             \\\\\n",
       "\\textbf{Covariance Type:}  &    nonrobust     & \\textbf{                     } &             \\\\\n",
       "\\bottomrule\n",
       "\\end{tabular}\n",
       "\\begin{tabular}{lcccccc}\n",
       "                     & \\textbf{coef} & \\textbf{std err} & \\textbf{t} & \\textbf{P$> |$t$|$} & \\textbf{[0.025} & \\textbf{0.975]}  \\\\\n",
       "\\midrule\n",
       "\\textbf{const}       &      57.9881  &        3.524     &    16.453  &         0.000        &       51.010    &       64.966     \\\\\n",
       "\\textbf{Hepatitis }  &      -0.1037  &        0.068     &    -1.528  &         0.129        &       -0.238    &        0.031     \\\\\n",
       "\\textbf{Polio}       &       0.0910  &        0.043     &     2.099  &         0.038        &        0.005    &        0.177     \\\\\n",
       "\\textbf{Diphtheria } &       0.1613  &        0.082     &     1.969  &         0.051        &       -0.001    &        0.323     \\\\\n",
       "\\bottomrule\n",
       "\\end{tabular}\n",
       "\\begin{tabular}{lclc}\n",
       "\\textbf{Omnibus:}       &  4.513 & \\textbf{  Durbin-Watson:     } &    1.000  \\\\\n",
       "\\textbf{Prob(Omnibus):} &  0.105 & \\textbf{  Jarque-Bera (JB):  } &    4.279  \\\\\n",
       "\\textbf{Skew:}          & -0.396 & \\textbf{  Prob(JB):          } &    0.118  \\\\\n",
       "\\textbf{Kurtosis:}      &  2.550 & \\textbf{  Cond. No.          } &     755.  \\\\\n",
       "\\bottomrule\n",
       "\\end{tabular}\n",
       "%\\caption{OLS Regression Results}\n",
       "\\end{center}\n",
       "\n",
       "Notes: \\newline\n",
       " [1] Standard Errors assume that the covariance matrix of the errors is correctly specified."
      ],
      "text/plain": [
       "<class 'statsmodels.iolib.summary.Summary'>\n",
       "\"\"\"\n",
       "                            OLS Regression Results                            \n",
       "==============================================================================\n",
       "Dep. Variable:               Expected   R-squared:                       0.138\n",
       "Model:                            OLS   Adj. R-squared:                  0.116\n",
       "Method:                 Least Squares   F-statistic:                     6.395\n",
       "Date:                Thu, 20 Feb 2025   Prob (F-statistic):           0.000468\n",
       "Time:                        09:09:09   Log-Likelihood:                -431.15\n",
       "No. Observations:                 124   AIC:                             870.3\n",
       "Df Residuals:                     120   BIC:                             881.6\n",
       "Df Model:                           3                                         \n",
       "Covariance Type:            nonrobust                                         \n",
       "===============================================================================\n",
       "                  coef    std err          t      P>|t|      [0.025      0.975]\n",
       "-------------------------------------------------------------------------------\n",
       "const          57.9881      3.524     16.453      0.000      51.010      64.966\n",
       "Hepatitis      -0.1037      0.068     -1.528      0.129      -0.238       0.031\n",
       "Polio           0.0910      0.043      2.099      0.038       0.005       0.177\n",
       "Diphtheria      0.1613      0.082      1.969      0.051      -0.001       0.323\n",
       "==============================================================================\n",
       "Omnibus:                        4.513   Durbin-Watson:                   1.000\n",
       "Prob(Omnibus):                  0.105   Jarque-Bera (JB):                4.279\n",
       "Skew:                          -0.396   Prob(JB):                        0.118\n",
       "Kurtosis:                       2.550   Cond. No.                         755.\n",
       "==============================================================================\n",
       "\n",
       "Notes:\n",
       "[1] Standard Errors assume that the covariance matrix of the errors is correctly specified.\n",
       "\"\"\""
      ]
     },
     "execution_count": 16,
     "metadata": {},
     "output_type": "execute_result"
    }
   ],
   "source": [
    "x=df.iloc[:,[4,8,9]]\n",
    "y=df['Expected']\n",
    "X_const = sm.add_constant(x)\n",
    "mlr_model = sm.OLS(y,X_const).fit()\n",
    "mlr_model.summary()"
   ]
  },
  {
   "cell_type": "markdown",
   "metadata": {
    "collapsed": true,
    "id": "JYXNOH_fO5MG",
    "jupyter": {
     "outputs_hidden": true
    }
   },
   "source": [
    "<table align=\"left\">\n",
    "    <tr>\n",
    "        <td width=\"6%\">\n",
    "            <img src=\"question_icon.png\">\n",
    "        </td>\n",
    "        <td>\n",
    "            <div align=\"left\", style=\"font-size:120%\">\n",
    "                <font color=\"#21618C\">\n",
    "                    <b>4. If the information that whether the country is a developed or a developing country is included, does it alter the impact of immunzation on life expectancy ?</b>\n",
    "                </font>\n",
    "            </div>\n",
    "        </td>\n",
    "    </tr>\n",
    "</table>"
   ]
  },
  {
   "cell_type": "code",
   "execution_count": 17,
   "metadata": {},
   "outputs": [
    {
     "data": {
      "text/html": [
       "<div>\n",
       "<style scoped>\n",
       "    .dataframe tbody tr th:only-of-type {\n",
       "        vertical-align: middle;\n",
       "    }\n",
       "\n",
       "    .dataframe tbody tr th {\n",
       "        vertical-align: top;\n",
       "    }\n",
       "\n",
       "    .dataframe thead th {\n",
       "        text-align: right;\n",
       "    }\n",
       "</style>\n",
       "<table border=\"1\" class=\"dataframe\">\n",
       "  <thead>\n",
       "    <tr style=\"text-align: right;\">\n",
       "      <th></th>\n",
       "      <th>Hepatitis</th>\n",
       "      <th>Polio</th>\n",
       "      <th>Diphtheria</th>\n",
       "      <th>Status_Developing</th>\n",
       "    </tr>\n",
       "  </thead>\n",
       "  <tbody>\n",
       "    <tr>\n",
       "      <th>0</th>\n",
       "      <td>65</td>\n",
       "      <td>6</td>\n",
       "      <td>65</td>\n",
       "      <td>1</td>\n",
       "    </tr>\n",
       "    <tr>\n",
       "      <th>1</th>\n",
       "      <td>98</td>\n",
       "      <td>98</td>\n",
       "      <td>98</td>\n",
       "      <td>1</td>\n",
       "    </tr>\n",
       "    <tr>\n",
       "      <th>2</th>\n",
       "      <td>95</td>\n",
       "      <td>95</td>\n",
       "      <td>95</td>\n",
       "      <td>1</td>\n",
       "    </tr>\n",
       "    <tr>\n",
       "      <th>3</th>\n",
       "      <td>64</td>\n",
       "      <td>7</td>\n",
       "      <td>64</td>\n",
       "      <td>1</td>\n",
       "    </tr>\n",
       "    <tr>\n",
       "      <th>4</th>\n",
       "      <td>94</td>\n",
       "      <td>93</td>\n",
       "      <td>94</td>\n",
       "      <td>1</td>\n",
       "    </tr>\n",
       "  </tbody>\n",
       "</table>\n",
       "</div>"
      ],
      "text/plain": [
       "   Hepatitis   Polio  Diphtheria   Status_Developing\n",
       "0          65      6           65                  1\n",
       "1          98     98           98                  1\n",
       "2          95     95           95                  1\n",
       "3          64      7           64                  1\n",
       "4          94     93           94                  1"
      ]
     },
     "execution_count": 17,
     "metadata": {},
     "output_type": "execute_result"
    }
   ],
   "source": [
    "df['Status'].unique()\n",
    "X= df.iloc[:,[4,8,9]]\n",
    "encod_status = pd.get_dummies(df['Status'],drop_first = 1,prefix = 'Status',dtype = int)\n",
    "X_encod= pd.concat([X,encod_status],axis=1)\n",
    "X_encod.head()"
   ]
  },
  {
   "cell_type": "code",
   "execution_count": 18,
   "metadata": {},
   "outputs": [
    {
     "data": {
      "text/html": [
       "<table class=\"simpletable\">\n",
       "<caption>OLS Regression Results</caption>\n",
       "<tr>\n",
       "  <th>Dep. Variable:</th>        <td>Expected</td>     <th>  R-squared:         </th> <td>   0.321</td>\n",
       "</tr>\n",
       "<tr>\n",
       "  <th>Model:</th>                   <td>OLS</td>       <th>  Adj. R-squared:    </th> <td>   0.298</td>\n",
       "</tr>\n",
       "<tr>\n",
       "  <th>Method:</th>             <td>Least Squares</td>  <th>  F-statistic:       </th> <td>   14.06</td>\n",
       "</tr>\n",
       "<tr>\n",
       "  <th>Date:</th>             <td>Thu, 20 Feb 2025</td> <th>  Prob (F-statistic):</th> <td>2.00e-09</td>\n",
       "</tr>\n",
       "<tr>\n",
       "  <th>Time:</th>                 <td>09:09:09</td>     <th>  Log-Likelihood:    </th> <td> -416.35</td>\n",
       "</tr>\n",
       "<tr>\n",
       "  <th>No. Observations:</th>      <td>   124</td>      <th>  AIC:               </th> <td>   842.7</td>\n",
       "</tr>\n",
       "<tr>\n",
       "  <th>Df Residuals:</th>          <td>   119</td>      <th>  BIC:               </th> <td>   856.8</td>\n",
       "</tr>\n",
       "<tr>\n",
       "  <th>Df Model:</th>              <td>     4</td>      <th>                     </th>     <td> </td>   \n",
       "</tr>\n",
       "<tr>\n",
       "  <th>Covariance Type:</th>      <td>nonrobust</td>    <th>                     </th>     <td> </td>   \n",
       "</tr>\n",
       "</table>\n",
       "<table class=\"simpletable\">\n",
       "<tr>\n",
       "          <td></td>             <th>coef</th>     <th>std err</th>      <th>t</th>      <th>P>|t|</th>  <th>[0.025</th>    <th>0.975]</th>  \n",
       "</tr>\n",
       "<tr>\n",
       "  <th>const</th>             <td>   69.8090</td> <td>    3.771</td> <td>   18.512</td> <td> 0.000</td> <td>   62.342</td> <td>   77.276</td>\n",
       "</tr>\n",
       "<tr>\n",
       "  <th>Hepatitis </th>        <td>   -0.0035</td> <td>    0.063</td> <td>   -0.056</td> <td> 0.955</td> <td>   -0.128</td> <td>    0.121</td>\n",
       "</tr>\n",
       "<tr>\n",
       "  <th>Polio</th>             <td>    0.0771</td> <td>    0.039</td> <td>    1.993</td> <td> 0.049</td> <td>    0.000</td> <td>    0.154</td>\n",
       "</tr>\n",
       "<tr>\n",
       "  <th>Diphtheria </th>       <td>    0.0456</td> <td>    0.076</td> <td>    0.602</td> <td> 0.548</td> <td>   -0.104</td> <td>    0.196</td>\n",
       "</tr>\n",
       "<tr>\n",
       "  <th>Status_Developing</th> <td>  -10.6036</td> <td>    1.872</td> <td>   -5.664</td> <td> 0.000</td> <td>  -14.310</td> <td>   -6.897</td>\n",
       "</tr>\n",
       "</table>\n",
       "<table class=\"simpletable\">\n",
       "<tr>\n",
       "  <th>Omnibus:</th>       <td> 2.973</td> <th>  Durbin-Watson:     </th> <td>   1.211</td>\n",
       "</tr>\n",
       "<tr>\n",
       "  <th>Prob(Omnibus):</th> <td> 0.226</td> <th>  Jarque-Bera (JB):  </th> <td>   2.635</td>\n",
       "</tr>\n",
       "<tr>\n",
       "  <th>Skew:</th>          <td>-0.355</td> <th>  Prob(JB):          </th> <td>   0.268</td>\n",
       "</tr>\n",
       "<tr>\n",
       "  <th>Kurtosis:</th>      <td> 3.077</td> <th>  Cond. No.          </th> <td>    946.</td>\n",
       "</tr>\n",
       "</table><br/><br/>Notes:<br/>[1] Standard Errors assume that the covariance matrix of the errors is correctly specified."
      ],
      "text/latex": [
       "\\begin{center}\n",
       "\\begin{tabular}{lclc}\n",
       "\\toprule\n",
       "\\textbf{Dep. Variable:}     &     Expected     & \\textbf{  R-squared:         } &     0.321   \\\\\n",
       "\\textbf{Model:}             &       OLS        & \\textbf{  Adj. R-squared:    } &     0.298   \\\\\n",
       "\\textbf{Method:}            &  Least Squares   & \\textbf{  F-statistic:       } &     14.06   \\\\\n",
       "\\textbf{Date:}              & Thu, 20 Feb 2025 & \\textbf{  Prob (F-statistic):} &  2.00e-09   \\\\\n",
       "\\textbf{Time:}              &     09:09:09     & \\textbf{  Log-Likelihood:    } &   -416.35   \\\\\n",
       "\\textbf{No. Observations:}  &         124      & \\textbf{  AIC:               } &     842.7   \\\\\n",
       "\\textbf{Df Residuals:}      &         119      & \\textbf{  BIC:               } &     856.8   \\\\\n",
       "\\textbf{Df Model:}          &           4      & \\textbf{                     } &             \\\\\n",
       "\\textbf{Covariance Type:}   &    nonrobust     & \\textbf{                     } &             \\\\\n",
       "\\bottomrule\n",
       "\\end{tabular}\n",
       "\\begin{tabular}{lcccccc}\n",
       "                            & \\textbf{coef} & \\textbf{std err} & \\textbf{t} & \\textbf{P$> |$t$|$} & \\textbf{[0.025} & \\textbf{0.975]}  \\\\\n",
       "\\midrule\n",
       "\\textbf{const}              &      69.8090  &        3.771     &    18.512  &         0.000        &       62.342    &       77.276     \\\\\n",
       "\\textbf{Hepatitis }         &      -0.0035  &        0.063     &    -0.056  &         0.955        &       -0.128    &        0.121     \\\\\n",
       "\\textbf{Polio}              &       0.0771  &        0.039     &     1.993  &         0.049        &        0.000    &        0.154     \\\\\n",
       "\\textbf{Diphtheria }        &       0.0456  &        0.076     &     0.602  &         0.548        &       -0.104    &        0.196     \\\\\n",
       "\\textbf{Status\\_Developing} &     -10.6036  &        1.872     &    -5.664  &         0.000        &      -14.310    &       -6.897     \\\\\n",
       "\\bottomrule\n",
       "\\end{tabular}\n",
       "\\begin{tabular}{lclc}\n",
       "\\textbf{Omnibus:}       &  2.973 & \\textbf{  Durbin-Watson:     } &    1.211  \\\\\n",
       "\\textbf{Prob(Omnibus):} &  0.226 & \\textbf{  Jarque-Bera (JB):  } &    2.635  \\\\\n",
       "\\textbf{Skew:}          & -0.355 & \\textbf{  Prob(JB):          } &    0.268  \\\\\n",
       "\\textbf{Kurtosis:}      &  3.077 & \\textbf{  Cond. No.          } &     946.  \\\\\n",
       "\\bottomrule\n",
       "\\end{tabular}\n",
       "%\\caption{OLS Regression Results}\n",
       "\\end{center}\n",
       "\n",
       "Notes: \\newline\n",
       " [1] Standard Errors assume that the covariance matrix of the errors is correctly specified."
      ],
      "text/plain": [
       "<class 'statsmodels.iolib.summary.Summary'>\n",
       "\"\"\"\n",
       "                            OLS Regression Results                            \n",
       "==============================================================================\n",
       "Dep. Variable:               Expected   R-squared:                       0.321\n",
       "Model:                            OLS   Adj. R-squared:                  0.298\n",
       "Method:                 Least Squares   F-statistic:                     14.06\n",
       "Date:                Thu, 20 Feb 2025   Prob (F-statistic):           2.00e-09\n",
       "Time:                        09:09:09   Log-Likelihood:                -416.35\n",
       "No. Observations:                 124   AIC:                             842.7\n",
       "Df Residuals:                     119   BIC:                             856.8\n",
       "Df Model:                           4                                         \n",
       "Covariance Type:            nonrobust                                         \n",
       "=====================================================================================\n",
       "                        coef    std err          t      P>|t|      [0.025      0.975]\n",
       "-------------------------------------------------------------------------------------\n",
       "const                69.8090      3.771     18.512      0.000      62.342      77.276\n",
       "Hepatitis            -0.0035      0.063     -0.056      0.955      -0.128       0.121\n",
       "Polio                 0.0771      0.039      1.993      0.049       0.000       0.154\n",
       "Diphtheria            0.0456      0.076      0.602      0.548      -0.104       0.196\n",
       "Status_Developing   -10.6036      1.872     -5.664      0.000     -14.310      -6.897\n",
       "==============================================================================\n",
       "Omnibus:                        2.973   Durbin-Watson:                   1.211\n",
       "Prob(Omnibus):                  0.226   Jarque-Bera (JB):                2.635\n",
       "Skew:                          -0.355   Prob(JB):                        0.268\n",
       "Kurtosis:                       3.077   Cond. No.                         946.\n",
       "==============================================================================\n",
       "\n",
       "Notes:\n",
       "[1] Standard Errors assume that the covariance matrix of the errors is correctly specified.\n",
       "\"\"\""
      ]
     },
     "execution_count": 18,
     "metadata": {},
     "output_type": "execute_result"
    }
   ],
   "source": [
    "y= df[\"Expected\"]\n",
    "X_const= sm.add_constant(X_encod)\n",
    "mlr_model = sm.OLS(y,X_const).fit()\n",
    "mlr_model.summary()"
   ]
  },
  {
   "cell_type": "markdown",
   "metadata": {
    "id": "OSjInVY1O5MI"
   },
   "source": [
    "<a id=\"ins\"> </a>\n",
    "## 3. Inferences about slope"
   ]
  },
  {
   "cell_type": "markdown",
   "metadata": {
    "collapsed": true,
    "id": "3byiFGZJO5MI",
    "jupyter": {
     "outputs_hidden": true
    }
   },
   "source": [
    "<table align=\"left\">\n",
    "    <tr>\n",
    "        <td width=\"6%\">\n",
    "            <img src=\"question_icon.png\">\n",
    "        </td>\n",
    "        <td>\n",
    "            <div align=\"left\", style=\"font-size:120%\">\n",
    "                <font color=\"#21618C\">\n",
    "                    <b>5. Find the significant variables in the full model when all the variables are considered for prediction of life expectancy.</b>\n",
    "                </font>\n",
    "            </div>\n",
    "        </td>\n",
    "    </tr>\n",
    "</table>"
   ]
  },
  {
   "cell_type": "code",
   "execution_count": 19,
   "metadata": {},
   "outputs": [
    {
     "data": {
      "text/html": [
       "<div>\n",
       "<style scoped>\n",
       "    .dataframe tbody tr th:only-of-type {\n",
       "        vertical-align: middle;\n",
       "    }\n",
       "\n",
       "    .dataframe tbody tr th {\n",
       "        vertical-align: top;\n",
       "    }\n",
       "\n",
       "    .dataframe thead th {\n",
       "        text-align: right;\n",
       "    }\n",
       "</style>\n",
       "<table border=\"1\" class=\"dataframe\">\n",
       "  <thead>\n",
       "    <tr style=\"text-align: right;\">\n",
       "      <th></th>\n",
       "      <th>Country</th>\n",
       "      <th>Status</th>\n",
       "      <th>Adult_Mortality</th>\n",
       "      <th>Infant_Deaths</th>\n",
       "      <th>Hepatitis</th>\n",
       "      <th>Measles</th>\n",
       "      <th>BMI</th>\n",
       "      <th>Underfive_Deaths</th>\n",
       "      <th>Polio</th>\n",
       "      <th>Diphtheria</th>\n",
       "      <th>HIV</th>\n",
       "      <th>GDP</th>\n",
       "      <th>Population</th>\n",
       "      <th>Malnourished10_19</th>\n",
       "      <th>Malnourished5_9</th>\n",
       "      <th>Income_Index</th>\n",
       "      <th>Schooling</th>\n",
       "      <th>Expected</th>\n",
       "    </tr>\n",
       "  </thead>\n",
       "  <tbody>\n",
       "    <tr>\n",
       "      <th>0</th>\n",
       "      <td>Afghanistan</td>\n",
       "      <td>Developing</td>\n",
       "      <td>263</td>\n",
       "      <td>62</td>\n",
       "      <td>65</td>\n",
       "      <td>1154</td>\n",
       "      <td>19.1</td>\n",
       "      <td>83</td>\n",
       "      <td>6</td>\n",
       "      <td>65</td>\n",
       "      <td>0.1</td>\n",
       "      <td>584.259210</td>\n",
       "      <td>33736494</td>\n",
       "      <td>17.2</td>\n",
       "      <td>17.3</td>\n",
       "      <td>0.479</td>\n",
       "      <td>10.1</td>\n",
       "      <td>65.0</td>\n",
       "    </tr>\n",
       "    <tr>\n",
       "      <th>1</th>\n",
       "      <td>Albania</td>\n",
       "      <td>Developing</td>\n",
       "      <td>8</td>\n",
       "      <td>0</td>\n",
       "      <td>98</td>\n",
       "      <td>0</td>\n",
       "      <td>57.2</td>\n",
       "      <td>1</td>\n",
       "      <td>98</td>\n",
       "      <td>98</td>\n",
       "      <td>0.1</td>\n",
       "      <td>4575.763787</td>\n",
       "      <td>288914</td>\n",
       "      <td>1.2</td>\n",
       "      <td>1.3</td>\n",
       "      <td>0.761</td>\n",
       "      <td>14.2</td>\n",
       "      <td>77.5</td>\n",
       "    </tr>\n",
       "    <tr>\n",
       "      <th>2</th>\n",
       "      <td>Algeria</td>\n",
       "      <td>Developing</td>\n",
       "      <td>19</td>\n",
       "      <td>21</td>\n",
       "      <td>95</td>\n",
       "      <td>63</td>\n",
       "      <td>59.5</td>\n",
       "      <td>24</td>\n",
       "      <td>95</td>\n",
       "      <td>95</td>\n",
       "      <td>0.1</td>\n",
       "      <td>4132.762920</td>\n",
       "      <td>39871528</td>\n",
       "      <td>6.0</td>\n",
       "      <td>5.8</td>\n",
       "      <td>0.743</td>\n",
       "      <td>14.4</td>\n",
       "      <td>75.6</td>\n",
       "    </tr>\n",
       "    <tr>\n",
       "      <th>3</th>\n",
       "      <td>Angola</td>\n",
       "      <td>Developing</td>\n",
       "      <td>335</td>\n",
       "      <td>66</td>\n",
       "      <td>64</td>\n",
       "      <td>118</td>\n",
       "      <td>23.3</td>\n",
       "      <td>98</td>\n",
       "      <td>7</td>\n",
       "      <td>64</td>\n",
       "      <td>1.9</td>\n",
       "      <td>3695.793748</td>\n",
       "      <td>2785935</td>\n",
       "      <td>8.3</td>\n",
       "      <td>8.2</td>\n",
       "      <td>0.531</td>\n",
       "      <td>11.4</td>\n",
       "      <td>52.4</td>\n",
       "    </tr>\n",
       "    <tr>\n",
       "      <th>4</th>\n",
       "      <td>Argentina</td>\n",
       "      <td>Developing</td>\n",
       "      <td>116</td>\n",
       "      <td>8</td>\n",
       "      <td>94</td>\n",
       "      <td>0</td>\n",
       "      <td>62.8</td>\n",
       "      <td>9</td>\n",
       "      <td>93</td>\n",
       "      <td>94</td>\n",
       "      <td>0.1</td>\n",
       "      <td>13467.123600</td>\n",
       "      <td>43417765</td>\n",
       "      <td>1.0</td>\n",
       "      <td>0.9</td>\n",
       "      <td>0.826</td>\n",
       "      <td>17.3</td>\n",
       "      <td>76.3</td>\n",
       "    </tr>\n",
       "  </tbody>\n",
       "</table>\n",
       "</div>"
      ],
      "text/plain": [
       "       Country      Status  Adult_Mortality  Infant_Deaths  Hepatitis   \\\n",
       "0  Afghanistan  Developing              263             62          65   \n",
       "1      Albania  Developing                8              0          98   \n",
       "2      Algeria  Developing               19             21          95   \n",
       "3       Angola  Developing              335             66          64   \n",
       "4    Argentina  Developing              116              8          94   \n",
       "\n",
       "   Measles    BMI   Underfive_Deaths   Polio  Diphtheria    HIV           GDP  \\\n",
       "0      1154   19.1                 83      6           65   0.1    584.259210   \n",
       "1         0   57.2                  1     98           98   0.1   4575.763787   \n",
       "2        63   59.5                 24     95           95   0.1   4132.762920   \n",
       "3       118   23.3                 98      7           64   1.9   3695.793748   \n",
       "4         0   62.8                  9     93           94   0.1  13467.123600   \n",
       "\n",
       "   Population  Malnourished10_19   Malnourished5_9  Income_Index  Schooling  \\\n",
       "0    33736494                17.2             17.3         0.479       10.1   \n",
       "1      288914                 1.2              1.3         0.761       14.2   \n",
       "2    39871528                 6.0              5.8         0.743       14.4   \n",
       "3     2785935                 8.3              8.2         0.531       11.4   \n",
       "4    43417765                 1.0              0.9         0.826       17.3   \n",
       "\n",
       "   Expected  \n",
       "0      65.0  \n",
       "1      77.5  \n",
       "2      75.6  \n",
       "3      52.4  \n",
       "4      76.3  "
      ]
     },
     "execution_count": 19,
     "metadata": {},
     "output_type": "execute_result"
    }
   ],
   "source": [
    "df.head()"
   ]
  },
  {
   "cell_type": "code",
   "execution_count": 20,
   "metadata": {},
   "outputs": [
    {
     "data": {
      "text/html": [
       "<table class=\"simpletable\">\n",
       "<caption>OLS Regression Results</caption>\n",
       "<tr>\n",
       "  <th>Dep. Variable:</th>        <td>Expected</td>     <th>  R-squared:         </th> <td>   0.848</td>\n",
       "</tr>\n",
       "<tr>\n",
       "  <th>Model:</th>                   <td>OLS</td>       <th>  Adj. R-squared:    </th> <td>   0.826</td>\n",
       "</tr>\n",
       "<tr>\n",
       "  <th>Method:</th>             <td>Least Squares</td>  <th>  F-statistic:       </th> <td>   37.43</td>\n",
       "</tr>\n",
       "<tr>\n",
       "  <th>Date:</th>             <td>Thu, 20 Feb 2025</td> <th>  Prob (F-statistic):</th> <td>1.94e-36</td>\n",
       "</tr>\n",
       "<tr>\n",
       "  <th>Time:</th>                 <td>09:09:09</td>     <th>  Log-Likelihood:    </th> <td> -323.38</td>\n",
       "</tr>\n",
       "<tr>\n",
       "  <th>No. Observations:</th>      <td>   124</td>      <th>  AIC:               </th> <td>   680.8</td>\n",
       "</tr>\n",
       "<tr>\n",
       "  <th>Df Residuals:</th>          <td>   107</td>      <th>  BIC:               </th> <td>   728.7</td>\n",
       "</tr>\n",
       "<tr>\n",
       "  <th>Df Model:</th>              <td>    16</td>      <th>                     </th>     <td> </td>   \n",
       "</tr>\n",
       "<tr>\n",
       "  <th>Covariance Type:</th>      <td>nonrobust</td>    <th>                     </th>     <td> </td>   \n",
       "</tr>\n",
       "</table>\n",
       "<table class=\"simpletable\">\n",
       "<tr>\n",
       "           <td></td>             <th>coef</th>     <th>std err</th>      <th>t</th>      <th>P>|t|</th>  <th>[0.025</th>    <th>0.975]</th>  \n",
       "</tr>\n",
       "<tr>\n",
       "  <th>const</th>              <td>   60.0678</td> <td>    3.747</td> <td>   16.030</td> <td> 0.000</td> <td>   52.639</td> <td>   67.496</td>\n",
       "</tr>\n",
       "<tr>\n",
       "  <th>Adult_Mortality</th>    <td>   -0.0231</td> <td>    0.004</td> <td>   -5.685</td> <td> 0.000</td> <td>   -0.031</td> <td>   -0.015</td>\n",
       "</tr>\n",
       "<tr>\n",
       "  <th>Infant_Deaths</th>      <td>    0.0556</td> <td>    0.037</td> <td>    1.507</td> <td> 0.135</td> <td>   -0.018</td> <td>    0.129</td>\n",
       "</tr>\n",
       "<tr>\n",
       "  <th>Hepatitis </th>         <td>    0.0656</td> <td>    0.032</td> <td>    2.056</td> <td> 0.042</td> <td>    0.002</td> <td>    0.129</td>\n",
       "</tr>\n",
       "<tr>\n",
       "  <th>Measles </th>           <td> -5.93e-05</td> <td> 6.09e-05</td> <td>   -0.974</td> <td> 0.332</td> <td>   -0.000</td> <td> 6.14e-05</td>\n",
       "</tr>\n",
       "<tr>\n",
       "  <th> BMI </th>              <td>   -0.0266</td> <td>    0.023</td> <td>   -1.179</td> <td> 0.241</td> <td>   -0.071</td> <td>    0.018</td>\n",
       "</tr>\n",
       "<tr>\n",
       "  <th>Underfive_Deaths </th>  <td>   -0.0389</td> <td>    0.027</td> <td>   -1.439</td> <td> 0.153</td> <td>   -0.093</td> <td>    0.015</td>\n",
       "</tr>\n",
       "<tr>\n",
       "  <th>Polio</th>              <td>   -0.0091</td> <td>    0.022</td> <td>   -0.417</td> <td> 0.677</td> <td>   -0.053</td> <td>    0.034</td>\n",
       "</tr>\n",
       "<tr>\n",
       "  <th>Diphtheria </th>        <td>   -0.0345</td> <td>    0.040</td> <td>   -0.868</td> <td> 0.387</td> <td>   -0.113</td> <td>    0.044</td>\n",
       "</tr>\n",
       "<tr>\n",
       "  <th> HIV</th>               <td>   -1.0385</td> <td>    0.268</td> <td>   -3.881</td> <td> 0.000</td> <td>   -1.569</td> <td>   -0.508</td>\n",
       "</tr>\n",
       "<tr>\n",
       "  <th>GDP</th>                <td> 5.021e-05</td> <td> 3.48e-05</td> <td>    1.445</td> <td> 0.151</td> <td>-1.87e-05</td> <td>    0.000</td>\n",
       "</tr>\n",
       "<tr>\n",
       "  <th>Population</th>         <td>-1.845e-08</td> <td>  8.6e-09</td> <td>   -2.146</td> <td> 0.034</td> <td>-3.55e-08</td> <td>-1.41e-09</td>\n",
       "</tr>\n",
       "<tr>\n",
       "  <th>Malnourished10_19 </th> <td>   -0.4850</td> <td>    0.300</td> <td>   -1.616</td> <td> 0.109</td> <td>   -1.080</td> <td>    0.110</td>\n",
       "</tr>\n",
       "<tr>\n",
       "  <th>Malnourished5_9</th>    <td>    0.2983</td> <td>    0.283</td> <td>    1.053</td> <td> 0.294</td> <td>   -0.263</td> <td>    0.860</td>\n",
       "</tr>\n",
       "<tr>\n",
       "  <th>Income_Index</th>       <td>   18.6518</td> <td>    6.313</td> <td>    2.955</td> <td> 0.004</td> <td>    6.138</td> <td>   31.166</td>\n",
       "</tr>\n",
       "<tr>\n",
       "  <th>Schooling</th>          <td>    0.3599</td> <td>    0.346</td> <td>    1.040</td> <td> 0.301</td> <td>   -0.326</td> <td>    1.046</td>\n",
       "</tr>\n",
       "<tr>\n",
       "  <th>Status_Developing</th>  <td>   -2.0360</td> <td>    1.168</td> <td>   -1.743</td> <td> 0.084</td> <td>   -4.352</td> <td>    0.280</td>\n",
       "</tr>\n",
       "</table>\n",
       "<table class=\"simpletable\">\n",
       "<tr>\n",
       "  <th>Omnibus:</th>       <td> 6.529</td> <th>  Durbin-Watson:     </th> <td>   1.754</td>\n",
       "</tr>\n",
       "<tr>\n",
       "  <th>Prob(Omnibus):</th> <td> 0.038</td> <th>  Jarque-Bera (JB):  </th> <td>  10.518</td>\n",
       "</tr>\n",
       "<tr>\n",
       "  <th>Skew:</th>          <td> 0.122</td> <th>  Prob(JB):          </th> <td> 0.00520</td>\n",
       "</tr>\n",
       "<tr>\n",
       "  <th>Kurtosis:</th>      <td> 4.406</td> <th>  Cond. No.          </th> <td>9.15e+08</td>\n",
       "</tr>\n",
       "</table><br/><br/>Notes:<br/>[1] Standard Errors assume that the covariance matrix of the errors is correctly specified.<br/>[2] The condition number is large, 9.15e+08. This might indicate that there are<br/>strong multicollinearity or other numerical problems."
      ],
      "text/latex": [
       "\\begin{center}\n",
       "\\begin{tabular}{lclc}\n",
       "\\toprule\n",
       "\\textbf{Dep. Variable:}      &     Expected     & \\textbf{  R-squared:         } &     0.848   \\\\\n",
       "\\textbf{Model:}              &       OLS        & \\textbf{  Adj. R-squared:    } &     0.826   \\\\\n",
       "\\textbf{Method:}             &  Least Squares   & \\textbf{  F-statistic:       } &     37.43   \\\\\n",
       "\\textbf{Date:}               & Thu, 20 Feb 2025 & \\textbf{  Prob (F-statistic):} &  1.94e-36   \\\\\n",
       "\\textbf{Time:}               &     09:09:09     & \\textbf{  Log-Likelihood:    } &   -323.38   \\\\\n",
       "\\textbf{No. Observations:}   &         124      & \\textbf{  AIC:               } &     680.8   \\\\\n",
       "\\textbf{Df Residuals:}       &         107      & \\textbf{  BIC:               } &     728.7   \\\\\n",
       "\\textbf{Df Model:}           &          16      & \\textbf{                     } &             \\\\\n",
       "\\textbf{Covariance Type:}    &    nonrobust     & \\textbf{                     } &             \\\\\n",
       "\\bottomrule\n",
       "\\end{tabular}\n",
       "\\begin{tabular}{lcccccc}\n",
       "                             & \\textbf{coef} & \\textbf{std err} & \\textbf{t} & \\textbf{P$> |$t$|$} & \\textbf{[0.025} & \\textbf{0.975]}  \\\\\n",
       "\\midrule\n",
       "\\textbf{const}               &      60.0678  &        3.747     &    16.030  &         0.000        &       52.639    &       67.496     \\\\\n",
       "\\textbf{Adult\\_Mortality}    &      -0.0231  &        0.004     &    -5.685  &         0.000        &       -0.031    &       -0.015     \\\\\n",
       "\\textbf{Infant\\_Deaths}      &       0.0556  &        0.037     &     1.507  &         0.135        &       -0.018    &        0.129     \\\\\n",
       "\\textbf{Hepatitis }          &       0.0656  &        0.032     &     2.056  &         0.042        &        0.002    &        0.129     \\\\\n",
       "\\textbf{Measles }            &    -5.93e-05  &     6.09e-05     &    -0.974  &         0.332        &       -0.000    &     6.14e-05     \\\\\n",
       "\\textbf{ BMI }               &      -0.0266  &        0.023     &    -1.179  &         0.241        &       -0.071    &        0.018     \\\\\n",
       "\\textbf{Underfive\\_Deaths }  &      -0.0389  &        0.027     &    -1.439  &         0.153        &       -0.093    &        0.015     \\\\\n",
       "\\textbf{Polio}               &      -0.0091  &        0.022     &    -0.417  &         0.677        &       -0.053    &        0.034     \\\\\n",
       "\\textbf{Diphtheria }         &      -0.0345  &        0.040     &    -0.868  &         0.387        &       -0.113    &        0.044     \\\\\n",
       "\\textbf{ HIV}                &      -1.0385  &        0.268     &    -3.881  &         0.000        &       -1.569    &       -0.508     \\\\\n",
       "\\textbf{GDP}                 &    5.021e-05  &     3.48e-05     &     1.445  &         0.151        &    -1.87e-05    &        0.000     \\\\\n",
       "\\textbf{Population}          &   -1.845e-08  &      8.6e-09     &    -2.146  &         0.034        &    -3.55e-08    &    -1.41e-09     \\\\\n",
       "\\textbf{Malnourished10\\_19 } &      -0.4850  &        0.300     &    -1.616  &         0.109        &       -1.080    &        0.110     \\\\\n",
       "\\textbf{Malnourished5\\_9}    &       0.2983  &        0.283     &     1.053  &         0.294        &       -0.263    &        0.860     \\\\\n",
       "\\textbf{Income\\_Index}       &      18.6518  &        6.313     &     2.955  &         0.004        &        6.138    &       31.166     \\\\\n",
       "\\textbf{Schooling}           &       0.3599  &        0.346     &     1.040  &         0.301        &       -0.326    &        1.046     \\\\\n",
       "\\textbf{Status\\_Developing}  &      -2.0360  &        1.168     &    -1.743  &         0.084        &       -4.352    &        0.280     \\\\\n",
       "\\bottomrule\n",
       "\\end{tabular}\n",
       "\\begin{tabular}{lclc}\n",
       "\\textbf{Omnibus:}       &  6.529 & \\textbf{  Durbin-Watson:     } &    1.754  \\\\\n",
       "\\textbf{Prob(Omnibus):} &  0.038 & \\textbf{  Jarque-Bera (JB):  } &   10.518  \\\\\n",
       "\\textbf{Skew:}          &  0.122 & \\textbf{  Prob(JB):          } &  0.00520  \\\\\n",
       "\\textbf{Kurtosis:}      &  4.406 & \\textbf{  Cond. No.          } & 9.15e+08  \\\\\n",
       "\\bottomrule\n",
       "\\end{tabular}\n",
       "%\\caption{OLS Regression Results}\n",
       "\\end{center}\n",
       "\n",
       "Notes: \\newline\n",
       " [1] Standard Errors assume that the covariance matrix of the errors is correctly specified. \\newline\n",
       " [2] The condition number is large, 9.15e+08. This might indicate that there are \\newline\n",
       " strong multicollinearity or other numerical problems."
      ],
      "text/plain": [
       "<class 'statsmodels.iolib.summary.Summary'>\n",
       "\"\"\"\n",
       "                            OLS Regression Results                            \n",
       "==============================================================================\n",
       "Dep. Variable:               Expected   R-squared:                       0.848\n",
       "Model:                            OLS   Adj. R-squared:                  0.826\n",
       "Method:                 Least Squares   F-statistic:                     37.43\n",
       "Date:                Thu, 20 Feb 2025   Prob (F-statistic):           1.94e-36\n",
       "Time:                        09:09:09   Log-Likelihood:                -323.38\n",
       "No. Observations:                 124   AIC:                             680.8\n",
       "Df Residuals:                     107   BIC:                             728.7\n",
       "Df Model:                          16                                         \n",
       "Covariance Type:            nonrobust                                         \n",
       "======================================================================================\n",
       "                         coef    std err          t      P>|t|      [0.025      0.975]\n",
       "--------------------------------------------------------------------------------------\n",
       "const                 60.0678      3.747     16.030      0.000      52.639      67.496\n",
       "Adult_Mortality       -0.0231      0.004     -5.685      0.000      -0.031      -0.015\n",
       "Infant_Deaths          0.0556      0.037      1.507      0.135      -0.018       0.129\n",
       "Hepatitis              0.0656      0.032      2.056      0.042       0.002       0.129\n",
       "Measles             -5.93e-05   6.09e-05     -0.974      0.332      -0.000    6.14e-05\n",
       " BMI                  -0.0266      0.023     -1.179      0.241      -0.071       0.018\n",
       "Underfive_Deaths      -0.0389      0.027     -1.439      0.153      -0.093       0.015\n",
       "Polio                 -0.0091      0.022     -0.417      0.677      -0.053       0.034\n",
       "Diphtheria            -0.0345      0.040     -0.868      0.387      -0.113       0.044\n",
       " HIV                  -1.0385      0.268     -3.881      0.000      -1.569      -0.508\n",
       "GDP                 5.021e-05   3.48e-05      1.445      0.151   -1.87e-05       0.000\n",
       "Population         -1.845e-08    8.6e-09     -2.146      0.034   -3.55e-08   -1.41e-09\n",
       "Malnourished10_19     -0.4850      0.300     -1.616      0.109      -1.080       0.110\n",
       "Malnourished5_9        0.2983      0.283      1.053      0.294      -0.263       0.860\n",
       "Income_Index          18.6518      6.313      2.955      0.004       6.138      31.166\n",
       "Schooling              0.3599      0.346      1.040      0.301      -0.326       1.046\n",
       "Status_Developing     -2.0360      1.168     -1.743      0.084      -4.352       0.280\n",
       "==============================================================================\n",
       "Omnibus:                        6.529   Durbin-Watson:                   1.754\n",
       "Prob(Omnibus):                  0.038   Jarque-Bera (JB):               10.518\n",
       "Skew:                           0.122   Prob(JB):                      0.00520\n",
       "Kurtosis:                       4.406   Cond. No.                     9.15e+08\n",
       "==============================================================================\n",
       "\n",
       "Notes:\n",
       "[1] Standard Errors assume that the covariance matrix of the errors is correctly specified.\n",
       "[2] The condition number is large, 9.15e+08. This might indicate that there are\n",
       "strong multicollinearity or other numerical problems.\n",
       "\"\"\""
      ]
     },
     "execution_count": 20,
     "metadata": {},
     "output_type": "execute_result"
    }
   ],
   "source": [
    "X = df.drop([\"Country\",\"Expected\",\"Status\"],axis=1)\n",
    "y = df['Expected']\n",
    "\n",
    "encod_status = pd.get_dummies(df['Status'],drop_first = 1,prefix = 'Status',dtype =int)\n",
    "X_encod=pd.concat([X,encod_status],axis=1)\n",
    "X_const = sm.add_constant(X_encod)\n",
    "mlr_model = sm.OLS(y,X_const).fit()\n",
    "mlr_model.summary()"
   ]
  },
  {
   "cell_type": "code",
   "execution_count": 21,
   "metadata": {
    "id": "KnIG25MqO5MJ"
   },
   "outputs": [
    {
     "data": {
      "text/plain": [
       "const              3.282317e-30\n",
       "Adult_Mortality    1.144621e-07\n",
       "Hepatitis          4.216878e-02\n",
       " HIV               1.803409e-04\n",
       "Population         3.409537e-02\n",
       "Income_Index       3.849778e-03\n",
       "dtype: float64"
      ]
     },
     "execution_count": 21,
     "metadata": {},
     "output_type": "execute_result"
    }
   ],
   "source": [
    "# type your code here\n",
    "# mlr_model.pvalues[mlr_model.pvalues>0.05] # Insignificant variables\n",
    "mlr_model.pvalues[mlr_model.pvalues<0.05] #significant variables"
   ]
  },
  {
   "cell_type": "markdown",
   "metadata": {
    "collapsed": true,
    "id": "newURYBsO5MJ",
    "jupyter": {
     "outputs_hidden": true
    }
   },
   "source": [
    "<table align=\"left\">\n",
    "    <tr>\n",
    "        <td width=\"6%\">\n",
    "            <img src=\"question_icon.png\">\n",
    "        </td>\n",
    "        <td>\n",
    "            <div align=\"left\", style=\"font-size:120%\">\n",
    "                <font color=\"#21618C\">\n",
    "                    <b>6. If economic indices are used to predict the life expectancy, calculate the total variation for the observed values of life expectancy.</b>\n",
    "                </font>\n",
    "            </div>\n",
    "        </td>\n",
    "    </tr>\n",
    "</table>"
   ]
  },
  {
   "cell_type": "code",
   "execution_count": 22,
   "metadata": {},
   "outputs": [
    {
     "data": {
      "text/plain": [
       "Index(['Country', 'Status', 'Adult_Mortality', 'Infant_Deaths', 'Hepatitis ',\n",
       "       'Measles ', ' BMI ', 'Underfive_Deaths ', 'Polio', 'Diphtheria ',\n",
       "       ' HIV', 'GDP', 'Population', 'Malnourished10_19 ', 'Malnourished5_9',\n",
       "       'Income_Index', 'Schooling', 'Expected'],\n",
       "      dtype='object')"
      ]
     },
     "execution_count": 22,
     "metadata": {},
     "output_type": "execute_result"
    }
   ],
   "source": [
    "df.columns"
   ]
  },
  {
   "cell_type": "code",
   "execution_count": 23,
   "metadata": {},
   "outputs": [
    {
     "name": "stdout",
     "output_type": "stream",
     "text": [
      "0      65.0\n",
      "1      77.5\n",
      "2      75.6\n",
      "3      52.4\n",
      "4      76.3\n",
      "       ... \n",
      "119    55.3\n",
      "120    53.4\n",
      "121    52.0\n",
      "122    57.0\n",
      "123    48.6\n",
      "Name: Expected, Length: 124, dtype: float64 0      62.264429\n",
      "1      73.998340\n",
      "2      73.240868\n",
      "3      64.535391\n",
      "4      77.062897\n",
      "         ...    \n",
      "119    58.522734\n",
      "120    57.823931\n",
      "121    57.331190\n",
      "122    56.674937\n",
      "123    56.216358\n",
      "Length: 124, dtype: float64\n"
     ]
    }
   ],
   "source": [
    "X = df.iloc[:,[11,15]]\n",
    "y = df['Expected']\n",
    "X_const = sm.add_constant(X)\n",
    "mlr_model = sm.OLS(y,X_const).fit()\n",
    "y_pred = mlr_model.predict(X_const)\n",
    "residuals = (y-y_pred)\n",
    "residuals.head()\n",
    "print(y,y_pred)"
   ]
  },
  {
   "cell_type": "code",
   "execution_count": 24,
   "metadata": {},
   "outputs": [
    {
     "name": "stdout",
     "output_type": "stream",
     "text": [
      "2527.233879871136 6292.57160399981 8819.805483870969\n"
     ]
    }
   ],
   "source": [
    "SST = np.sum((y-y.mean())**2)\n",
    "SSR = np.sum((y_pred-y.mean())**2)\n",
    "SSE = np.sum((y-y_pred)**2)\n",
    "print(SSE,SSR,SST)"
   ]
  },
  {
   "cell_type": "markdown",
   "metadata": {
    "collapsed": true,
    "id": "wjkhqR4AO5MK",
    "jupyter": {
     "outputs_hidden": true
    }
   },
   "source": [
    "<table align=\"left\">\n",
    "    <tr>\n",
    "        <td width=\"6%\">\n",
    "            <img src=\"question_icon.png\">\n",
    "        </td>\n",
    "        <td>\n",
    "            <div align=\"left\", style=\"font-size:120%\">\n",
    "                <font color=\"#21618C\">\n",
    "                    <b>7. Determine the lower bound and upper bound for estimated value of life expectancy per unit change in HDI (for income)</b>\n",
    "                </font>\n",
    "            </div>\n",
    "        </td>\n",
    "    </tr>\n",
    "</table>"
   ]
  },
  {
   "cell_type": "code",
   "execution_count": 25,
   "metadata": {},
   "outputs": [
    {
     "data": {
      "text/plain": [
       "Index(['Country', 'Status', 'Adult_Mortality', 'Infant_Deaths', 'Hepatitis ',\n",
       "       'Measles ', ' BMI ', 'Underfive_Deaths ', 'Polio', 'Diphtheria ',\n",
       "       ' HIV', 'GDP', 'Population', 'Malnourished10_19 ', 'Malnourished5_9',\n",
       "       'Income_Index', 'Schooling', 'Expected'],\n",
       "      dtype='object')"
      ]
     },
     "execution_count": 25,
     "metadata": {},
     "output_type": "execute_result"
    }
   ],
   "source": [
    "df.columns"
   ]
  },
  {
   "cell_type": "code",
   "execution_count": 26,
   "metadata": {
    "id": "v0alPvAgO5MK"
   },
   "outputs": [
    {
     "data": {
      "text/html": [
       "<table class=\"simpletable\">\n",
       "<caption>OLS Regression Results</caption>\n",
       "<tr>\n",
       "  <th>Dep. Variable:</th>        <td>Expected</td>     <th>  R-squared:         </th> <td>   0.711</td>\n",
       "</tr>\n",
       "<tr>\n",
       "  <th>Model:</th>                   <td>OLS</td>       <th>  Adj. R-squared:    </th> <td>   0.709</td>\n",
       "</tr>\n",
       "<tr>\n",
       "  <th>Method:</th>             <td>Least Squares</td>  <th>  F-statistic:       </th> <td>   300.0</td>\n",
       "</tr>\n",
       "<tr>\n",
       "  <th>Date:</th>             <td>Thu, 20 Feb 2025</td> <th>  Prob (F-statistic):</th> <td>1.13e-34</td>\n",
       "</tr>\n",
       "<tr>\n",
       "  <th>Time:</th>                 <td>09:09:10</td>     <th>  Log-Likelihood:    </th> <td> -363.40</td>\n",
       "</tr>\n",
       "<tr>\n",
       "  <th>No. Observations:</th>      <td>   124</td>      <th>  AIC:               </th> <td>   730.8</td>\n",
       "</tr>\n",
       "<tr>\n",
       "  <th>Df Residuals:</th>          <td>   122</td>      <th>  BIC:               </th> <td>   736.4</td>\n",
       "</tr>\n",
       "<tr>\n",
       "  <th>Df Model:</th>              <td>     1</td>      <th>                     </th>     <td> </td>   \n",
       "</tr>\n",
       "<tr>\n",
       "  <th>Covariance Type:</th>      <td>nonrobust</td>    <th>                     </th>     <td> </td>   \n",
       "</tr>\n",
       "</table>\n",
       "<table class=\"simpletable\">\n",
       "<tr>\n",
       "        <td></td>          <th>coef</th>     <th>std err</th>      <th>t</th>      <th>P>|t|</th>  <th>[0.025</th>    <th>0.975]</th>  \n",
       "</tr>\n",
       "<tr>\n",
       "  <th>const</th>        <td>   41.9191</td> <td>    1.741</td> <td>   24.081</td> <td> 0.000</td> <td>   38.473</td> <td>   45.365</td>\n",
       "</tr>\n",
       "<tr>\n",
       "  <th>Income_Index</th> <td>   42.4243</td> <td>    2.449</td> <td>   17.322</td> <td> 0.000</td> <td>   37.576</td> <td>   47.273</td>\n",
       "</tr>\n",
       "</table>\n",
       "<table class=\"simpletable\">\n",
       "<tr>\n",
       "  <th>Omnibus:</th>       <td>11.870</td> <th>  Durbin-Watson:     </th> <td>   1.355</td>\n",
       "</tr>\n",
       "<tr>\n",
       "  <th>Prob(Omnibus):</th> <td> 0.003</td> <th>  Jarque-Bera (JB):  </th> <td>  26.475</td>\n",
       "</tr>\n",
       "<tr>\n",
       "  <th>Skew:</th>          <td> 0.280</td> <th>  Prob(JB):          </th> <td>1.78e-06</td>\n",
       "</tr>\n",
       "<tr>\n",
       "  <th>Kurtosis:</th>      <td> 5.193</td> <th>  Cond. No.          </th> <td>    8.87</td>\n",
       "</tr>\n",
       "</table><br/><br/>Notes:<br/>[1] Standard Errors assume that the covariance matrix of the errors is correctly specified."
      ],
      "text/latex": [
       "\\begin{center}\n",
       "\\begin{tabular}{lclc}\n",
       "\\toprule\n",
       "\\textbf{Dep. Variable:}    &     Expected     & \\textbf{  R-squared:         } &     0.711   \\\\\n",
       "\\textbf{Model:}            &       OLS        & \\textbf{  Adj. R-squared:    } &     0.709   \\\\\n",
       "\\textbf{Method:}           &  Least Squares   & \\textbf{  F-statistic:       } &     300.0   \\\\\n",
       "\\textbf{Date:}             & Thu, 20 Feb 2025 & \\textbf{  Prob (F-statistic):} &  1.13e-34   \\\\\n",
       "\\textbf{Time:}             &     09:09:10     & \\textbf{  Log-Likelihood:    } &   -363.40   \\\\\n",
       "\\textbf{No. Observations:} &         124      & \\textbf{  AIC:               } &     730.8   \\\\\n",
       "\\textbf{Df Residuals:}     &         122      & \\textbf{  BIC:               } &     736.4   \\\\\n",
       "\\textbf{Df Model:}         &           1      & \\textbf{                     } &             \\\\\n",
       "\\textbf{Covariance Type:}  &    nonrobust     & \\textbf{                     } &             \\\\\n",
       "\\bottomrule\n",
       "\\end{tabular}\n",
       "\\begin{tabular}{lcccccc}\n",
       "                       & \\textbf{coef} & \\textbf{std err} & \\textbf{t} & \\textbf{P$> |$t$|$} & \\textbf{[0.025} & \\textbf{0.975]}  \\\\\n",
       "\\midrule\n",
       "\\textbf{const}         &      41.9191  &        1.741     &    24.081  &         0.000        &       38.473    &       45.365     \\\\\n",
       "\\textbf{Income\\_Index} &      42.4243  &        2.449     &    17.322  &         0.000        &       37.576    &       47.273     \\\\\n",
       "\\bottomrule\n",
       "\\end{tabular}\n",
       "\\begin{tabular}{lclc}\n",
       "\\textbf{Omnibus:}       & 11.870 & \\textbf{  Durbin-Watson:     } &    1.355  \\\\\n",
       "\\textbf{Prob(Omnibus):} &  0.003 & \\textbf{  Jarque-Bera (JB):  } &   26.475  \\\\\n",
       "\\textbf{Skew:}          &  0.280 & \\textbf{  Prob(JB):          } & 1.78e-06  \\\\\n",
       "\\textbf{Kurtosis:}      &  5.193 & \\textbf{  Cond. No.          } &     8.87  \\\\\n",
       "\\bottomrule\n",
       "\\end{tabular}\n",
       "%\\caption{OLS Regression Results}\n",
       "\\end{center}\n",
       "\n",
       "Notes: \\newline\n",
       " [1] Standard Errors assume that the covariance matrix of the errors is correctly specified."
      ],
      "text/plain": [
       "<class 'statsmodels.iolib.summary.Summary'>\n",
       "\"\"\"\n",
       "                            OLS Regression Results                            \n",
       "==============================================================================\n",
       "Dep. Variable:               Expected   R-squared:                       0.711\n",
       "Model:                            OLS   Adj. R-squared:                  0.709\n",
       "Method:                 Least Squares   F-statistic:                     300.0\n",
       "Date:                Thu, 20 Feb 2025   Prob (F-statistic):           1.13e-34\n",
       "Time:                        09:09:10   Log-Likelihood:                -363.40\n",
       "No. Observations:                 124   AIC:                             730.8\n",
       "Df Residuals:                     122   BIC:                             736.4\n",
       "Df Model:                           1                                         \n",
       "Covariance Type:            nonrobust                                         \n",
       "================================================================================\n",
       "                   coef    std err          t      P>|t|      [0.025      0.975]\n",
       "--------------------------------------------------------------------------------\n",
       "const           41.9191      1.741     24.081      0.000      38.473      45.365\n",
       "Income_Index    42.4243      2.449     17.322      0.000      37.576      47.273\n",
       "==============================================================================\n",
       "Omnibus:                       11.870   Durbin-Watson:                   1.355\n",
       "Prob(Omnibus):                  0.003   Jarque-Bera (JB):               26.475\n",
       "Skew:                           0.280   Prob(JB):                     1.78e-06\n",
       "Kurtosis:                       5.193   Cond. No.                         8.87\n",
       "==============================================================================\n",
       "\n",
       "Notes:\n",
       "[1] Standard Errors assume that the covariance matrix of the errors is correctly specified.\n",
       "\"\"\""
      ]
     },
     "execution_count": 26,
     "metadata": {},
     "output_type": "execute_result"
    }
   ],
   "source": [
    "# type your code here\n",
    "X = df['Income_Index']\n",
    "y = df['Expected']\n",
    "X_const = sm.add_constant(X)\n",
    "SLR_model = sm.OLS(y,X_const).fit()\n",
    "SLR_model.summary()"
   ]
  },
  {
   "cell_type": "code",
   "execution_count": 27,
   "metadata": {},
   "outputs": [
    {
     "data": {
      "text/plain": [
       "np.float64(0.332)"
      ]
     },
     "execution_count": 27,
     "metadata": {},
     "output_type": "execute_result"
    }
   ],
   "source": [
    "df['Income_Index'].min()"
   ]
  },
  {
   "cell_type": "code",
   "execution_count": 28,
   "metadata": {},
   "outputs": [
    {
     "name": "stdout",
     "output_type": "stream",
     "text": [
      "0.332 0.945\n",
      "55.5797246 82.0100635\n"
     ]
    }
   ],
   "source": [
    "#y = (42.4243*HDI+41.9191)\n",
    "print(X.min(),X.max())\n",
    "\n",
    "lower_bound=lb= (42.4243*0.322+41.9191)\n",
    "upper_bound=ub= (42.4243*0.945+41.9191)\n",
    "print(lb,ub)"
   ]
  },
  {
   "cell_type": "markdown",
   "metadata": {
    "id": "lMLLc8-WO5ML"
   },
   "source": [
    "<a id=\"ML_eval\"> </a>\n",
    "## 4. Model Evaluation"
   ]
  },
  {
   "cell_type": "markdown",
   "metadata": {
    "collapsed": true,
    "id": "_8iBrQLFO5ML",
    "jupyter": {
     "outputs_hidden": true
    }
   },
   "source": [
    "<table align=\"left\">\n",
    "    <tr>\n",
    "        <td width=\"6%\">\n",
    "            <img src=\"question_icon.png\">\n",
    "        </td>\n",
    "        <td>\n",
    "            <div align=\"left\", style=\"font-size:120%\">\n",
    "                <font color=\"#21618C\">\n",
    "                    <b>8. A model is built to analyze the impact of mortality on Life expectancy. Would the addition of information about population of the country lead to a better prediction?</b>\n",
    "                </font>\n",
    "            </div>\n",
    "        </td>\n",
    "    </tr>\n",
    "</table>"
   ]
  },
  {
   "cell_type": "code",
   "execution_count": 29,
   "metadata": {},
   "outputs": [
    {
     "data": {
      "text/plain": [
       "Index(['Country', 'Status', 'Adult_Mortality', 'Infant_Deaths', 'Hepatitis ',\n",
       "       'Measles ', ' BMI ', 'Underfive_Deaths ', 'Polio', 'Diphtheria ',\n",
       "       ' HIV', 'GDP', 'Population', 'Malnourished10_19 ', 'Malnourished5_9',\n",
       "       'Income_Index', 'Schooling', 'Expected'],\n",
       "      dtype='object')"
      ]
     },
     "execution_count": 29,
     "metadata": {},
     "output_type": "execute_result"
    }
   ],
   "source": [
    "df.columns"
   ]
  },
  {
   "cell_type": "code",
   "execution_count": 30,
   "metadata": {
    "id": "RqansM6DO5ML"
   },
   "outputs": [
    {
     "data": {
      "text/html": [
       "<table class=\"simpletable\">\n",
       "<caption>OLS Regression Results</caption>\n",
       "<tr>\n",
       "  <th>Dep. Variable:</th>        <td>Expected</td>     <th>  R-squared:         </th> <td>   0.530</td>\n",
       "</tr>\n",
       "<tr>\n",
       "  <th>Model:</th>                   <td>OLS</td>       <th>  Adj. R-squared:    </th> <td>   0.519</td>\n",
       "</tr>\n",
       "<tr>\n",
       "  <th>Method:</th>             <td>Least Squares</td>  <th>  F-statistic:       </th> <td>   45.18</td>\n",
       "</tr>\n",
       "<tr>\n",
       "  <th>Date:</th>             <td>Thu, 20 Feb 2025</td> <th>  Prob (F-statistic):</th> <td>1.29e-19</td>\n",
       "</tr>\n",
       "<tr>\n",
       "  <th>Time:</th>                 <td>09:09:10</td>     <th>  Log-Likelihood:    </th> <td> -393.48</td>\n",
       "</tr>\n",
       "<tr>\n",
       "  <th>No. Observations:</th>      <td>   124</td>      <th>  AIC:               </th> <td>   795.0</td>\n",
       "</tr>\n",
       "<tr>\n",
       "  <th>Df Residuals:</th>          <td>   120</td>      <th>  BIC:               </th> <td>   806.2</td>\n",
       "</tr>\n",
       "<tr>\n",
       "  <th>Df Model:</th>              <td>     3</td>      <th>                     </th>     <td> </td>   \n",
       "</tr>\n",
       "<tr>\n",
       "  <th>Covariance Type:</th>      <td>nonrobust</td>    <th>                     </th>     <td> </td>   \n",
       "</tr>\n",
       "</table>\n",
       "<table class=\"simpletable\">\n",
       "<tr>\n",
       "          <td></td>             <th>coef</th>     <th>std err</th>      <th>t</th>      <th>P>|t|</th>  <th>[0.025</th>    <th>0.975]</th>  \n",
       "</tr>\n",
       "<tr>\n",
       "  <th>const</th>             <td>   80.3623</td> <td>    1.004</td> <td>   80.060</td> <td> 0.000</td> <td>   78.375</td> <td>   82.350</td>\n",
       "</tr>\n",
       "<tr>\n",
       "  <th>Adult_Mortality</th>   <td>   -0.0548</td> <td>    0.005</td> <td>   -9.996</td> <td> 0.000</td> <td>   -0.066</td> <td>   -0.044</td>\n",
       "</tr>\n",
       "<tr>\n",
       "  <th>Infant_Deaths</th>     <td>    0.0905</td> <td>    0.049</td> <td>    1.844</td> <td> 0.068</td> <td>   -0.007</td> <td>    0.188</td>\n",
       "</tr>\n",
       "<tr>\n",
       "  <th>Underfive_Deaths </th> <td>   -0.0775</td> <td>    0.038</td> <td>   -2.033</td> <td> 0.044</td> <td>   -0.153</td> <td>   -0.002</td>\n",
       "</tr>\n",
       "</table>\n",
       "<table class=\"simpletable\">\n",
       "<tr>\n",
       "  <th>Omnibus:</th>       <td>54.244</td> <th>  Durbin-Watson:     </th> <td>   1.530</td>\n",
       "</tr>\n",
       "<tr>\n",
       "  <th>Prob(Omnibus):</th> <td> 0.000</td> <th>  Jarque-Bera (JB):  </th> <td> 142.185</td>\n",
       "</tr>\n",
       "<tr>\n",
       "  <th>Skew:</th>          <td>-1.734</td> <th>  Prob(JB):          </th> <td>1.33e-31</td>\n",
       "</tr>\n",
       "<tr>\n",
       "  <th>Kurtosis:</th>      <td> 6.937</td> <th>  Cond. No.          </th> <td>    392.</td>\n",
       "</tr>\n",
       "</table><br/><br/>Notes:<br/>[1] Standard Errors assume that the covariance matrix of the errors is correctly specified."
      ],
      "text/latex": [
       "\\begin{center}\n",
       "\\begin{tabular}{lclc}\n",
       "\\toprule\n",
       "\\textbf{Dep. Variable:}     &     Expected     & \\textbf{  R-squared:         } &     0.530   \\\\\n",
       "\\textbf{Model:}             &       OLS        & \\textbf{  Adj. R-squared:    } &     0.519   \\\\\n",
       "\\textbf{Method:}            &  Least Squares   & \\textbf{  F-statistic:       } &     45.18   \\\\\n",
       "\\textbf{Date:}              & Thu, 20 Feb 2025 & \\textbf{  Prob (F-statistic):} &  1.29e-19   \\\\\n",
       "\\textbf{Time:}              &     09:09:10     & \\textbf{  Log-Likelihood:    } &   -393.48   \\\\\n",
       "\\textbf{No. Observations:}  &         124      & \\textbf{  AIC:               } &     795.0   \\\\\n",
       "\\textbf{Df Residuals:}      &         120      & \\textbf{  BIC:               } &     806.2   \\\\\n",
       "\\textbf{Df Model:}          &           3      & \\textbf{                     } &             \\\\\n",
       "\\textbf{Covariance Type:}   &    nonrobust     & \\textbf{                     } &             \\\\\n",
       "\\bottomrule\n",
       "\\end{tabular}\n",
       "\\begin{tabular}{lcccccc}\n",
       "                            & \\textbf{coef} & \\textbf{std err} & \\textbf{t} & \\textbf{P$> |$t$|$} & \\textbf{[0.025} & \\textbf{0.975]}  \\\\\n",
       "\\midrule\n",
       "\\textbf{const}              &      80.3623  &        1.004     &    80.060  &         0.000        &       78.375    &       82.350     \\\\\n",
       "\\textbf{Adult\\_Mortality}   &      -0.0548  &        0.005     &    -9.996  &         0.000        &       -0.066    &       -0.044     \\\\\n",
       "\\textbf{Infant\\_Deaths}     &       0.0905  &        0.049     &     1.844  &         0.068        &       -0.007    &        0.188     \\\\\n",
       "\\textbf{Underfive\\_Deaths } &      -0.0775  &        0.038     &    -2.033  &         0.044        &       -0.153    &       -0.002     \\\\\n",
       "\\bottomrule\n",
       "\\end{tabular}\n",
       "\\begin{tabular}{lclc}\n",
       "\\textbf{Omnibus:}       & 54.244 & \\textbf{  Durbin-Watson:     } &    1.530  \\\\\n",
       "\\textbf{Prob(Omnibus):} &  0.000 & \\textbf{  Jarque-Bera (JB):  } &  142.185  \\\\\n",
       "\\textbf{Skew:}          & -1.734 & \\textbf{  Prob(JB):          } & 1.33e-31  \\\\\n",
       "\\textbf{Kurtosis:}      &  6.937 & \\textbf{  Cond. No.          } &     392.  \\\\\n",
       "\\bottomrule\n",
       "\\end{tabular}\n",
       "%\\caption{OLS Regression Results}\n",
       "\\end{center}\n",
       "\n",
       "Notes: \\newline\n",
       " [1] Standard Errors assume that the covariance matrix of the errors is correctly specified."
      ],
      "text/plain": [
       "<class 'statsmodels.iolib.summary.Summary'>\n",
       "\"\"\"\n",
       "                            OLS Regression Results                            \n",
       "==============================================================================\n",
       "Dep. Variable:               Expected   R-squared:                       0.530\n",
       "Model:                            OLS   Adj. R-squared:                  0.519\n",
       "Method:                 Least Squares   F-statistic:                     45.18\n",
       "Date:                Thu, 20 Feb 2025   Prob (F-statistic):           1.29e-19\n",
       "Time:                        09:09:10   Log-Likelihood:                -393.48\n",
       "No. Observations:                 124   AIC:                             795.0\n",
       "Df Residuals:                     120   BIC:                             806.2\n",
       "Df Model:                           3                                         \n",
       "Covariance Type:            nonrobust                                         \n",
       "=====================================================================================\n",
       "                        coef    std err          t      P>|t|      [0.025      0.975]\n",
       "-------------------------------------------------------------------------------------\n",
       "const                80.3623      1.004     80.060      0.000      78.375      82.350\n",
       "Adult_Mortality      -0.0548      0.005     -9.996      0.000      -0.066      -0.044\n",
       "Infant_Deaths         0.0905      0.049      1.844      0.068      -0.007       0.188\n",
       "Underfive_Deaths     -0.0775      0.038     -2.033      0.044      -0.153      -0.002\n",
       "==============================================================================\n",
       "Omnibus:                       54.244   Durbin-Watson:                   1.530\n",
       "Prob(Omnibus):                  0.000   Jarque-Bera (JB):              142.185\n",
       "Skew:                          -1.734   Prob(JB):                     1.33e-31\n",
       "Kurtosis:                       6.937   Cond. No.                         392.\n",
       "==============================================================================\n",
       "\n",
       "Notes:\n",
       "[1] Standard Errors assume that the covariance matrix of the errors is correctly specified.\n",
       "\"\"\""
      ]
     },
     "execution_count": 30,
     "metadata": {},
     "output_type": "execute_result"
    }
   ],
   "source": [
    "# type your code here\n",
    "X = df.iloc[:,[2,3,7]]\n",
    "y = df['Expected']\n",
    "X_const = sm.add_constant(X)\n",
    "mlr_model = sm.OLS(y,X_const).fit()\n",
    "mlr_model.summary()"
   ]
  },
  {
   "cell_type": "code",
   "execution_count": 31,
   "metadata": {},
   "outputs": [
    {
     "data": {
      "text/html": [
       "<table class=\"simpletable\">\n",
       "<caption>OLS Regression Results</caption>\n",
       "<tr>\n",
       "  <th>Dep. Variable:</th>        <td>Expected</td>     <th>  R-squared:         </th> <td>   0.531</td>\n",
       "</tr>\n",
       "<tr>\n",
       "  <th>Model:</th>                   <td>OLS</td>       <th>  Adj. R-squared:    </th> <td>   0.515</td>\n",
       "</tr>\n",
       "<tr>\n",
       "  <th>Method:</th>             <td>Least Squares</td>  <th>  F-statistic:       </th> <td>   33.68</td>\n",
       "</tr>\n",
       "<tr>\n",
       "  <th>Date:</th>             <td>Thu, 20 Feb 2025</td> <th>  Prob (F-statistic):</th> <td>8.93e-19</td>\n",
       "</tr>\n",
       "<tr>\n",
       "  <th>Time:</th>                 <td>09:09:10</td>     <th>  Log-Likelihood:    </th> <td> -393.41</td>\n",
       "</tr>\n",
       "<tr>\n",
       "  <th>No. Observations:</th>      <td>   124</td>      <th>  AIC:               </th> <td>   796.8</td>\n",
       "</tr>\n",
       "<tr>\n",
       "  <th>Df Residuals:</th>          <td>   119</td>      <th>  BIC:               </th> <td>   810.9</td>\n",
       "</tr>\n",
       "<tr>\n",
       "  <th>Df Model:</th>              <td>     4</td>      <th>                     </th>     <td> </td>   \n",
       "</tr>\n",
       "<tr>\n",
       "  <th>Covariance Type:</th>      <td>nonrobust</td>    <th>                     </th>     <td> </td>   \n",
       "</tr>\n",
       "</table>\n",
       "<table class=\"simpletable\">\n",
       "<tr>\n",
       "          <td></td>             <th>coef</th>     <th>std err</th>      <th>t</th>      <th>P>|t|</th>  <th>[0.025</th>    <th>0.975]</th>  \n",
       "</tr>\n",
       "<tr>\n",
       "  <th>const</th>             <td>   80.3071</td> <td>    1.019</td> <td>   78.813</td> <td> 0.000</td> <td>   78.289</td> <td>   82.325</td>\n",
       "</tr>\n",
       "<tr>\n",
       "  <th>Adult_Mortality</th>   <td>   -0.0550</td> <td>    0.006</td> <td>   -9.929</td> <td> 0.000</td> <td>   -0.066</td> <td>   -0.044</td>\n",
       "</tr>\n",
       "<tr>\n",
       "  <th>Infant_Deaths</th>     <td>    0.0886</td> <td>    0.050</td> <td>    1.788</td> <td> 0.076</td> <td>   -0.010</td> <td>    0.187</td>\n",
       "</tr>\n",
       "<tr>\n",
       "  <th>Underfive_Deaths </th> <td>   -0.0760</td> <td>    0.038</td> <td>   -1.975</td> <td> 0.051</td> <td>   -0.152</td> <td>    0.000</td>\n",
       "</tr>\n",
       "<tr>\n",
       "  <th>Population</th>        <td> 4.736e-09</td> <td> 1.31e-08</td> <td>    0.361</td> <td> 0.718</td> <td>-2.12e-08</td> <td> 3.07e-08</td>\n",
       "</tr>\n",
       "</table>\n",
       "<table class=\"simpletable\">\n",
       "<tr>\n",
       "  <th>Omnibus:</th>       <td>54.418</td> <th>  Durbin-Watson:     </th> <td>   1.537</td>\n",
       "</tr>\n",
       "<tr>\n",
       "  <th>Prob(Omnibus):</th> <td> 0.000</td> <th>  Jarque-Bera (JB):  </th> <td> 143.042</td>\n",
       "</tr>\n",
       "<tr>\n",
       "  <th>Skew:</th>          <td>-1.738</td> <th>  Prob(JB):          </th> <td>8.69e-32</td>\n",
       "</tr>\n",
       "<tr>\n",
       "  <th>Kurtosis:</th>      <td> 6.949</td> <th>  Cond. No.          </th> <td>8.72e+07</td>\n",
       "</tr>\n",
       "</table><br/><br/>Notes:<br/>[1] Standard Errors assume that the covariance matrix of the errors is correctly specified.<br/>[2] The condition number is large, 8.72e+07. This might indicate that there are<br/>strong multicollinearity or other numerical problems."
      ],
      "text/latex": [
       "\\begin{center}\n",
       "\\begin{tabular}{lclc}\n",
       "\\toprule\n",
       "\\textbf{Dep. Variable:}     &     Expected     & \\textbf{  R-squared:         } &     0.531   \\\\\n",
       "\\textbf{Model:}             &       OLS        & \\textbf{  Adj. R-squared:    } &     0.515   \\\\\n",
       "\\textbf{Method:}            &  Least Squares   & \\textbf{  F-statistic:       } &     33.68   \\\\\n",
       "\\textbf{Date:}              & Thu, 20 Feb 2025 & \\textbf{  Prob (F-statistic):} &  8.93e-19   \\\\\n",
       "\\textbf{Time:}              &     09:09:10     & \\textbf{  Log-Likelihood:    } &   -393.41   \\\\\n",
       "\\textbf{No. Observations:}  &         124      & \\textbf{  AIC:               } &     796.8   \\\\\n",
       "\\textbf{Df Residuals:}      &         119      & \\textbf{  BIC:               } &     810.9   \\\\\n",
       "\\textbf{Df Model:}          &           4      & \\textbf{                     } &             \\\\\n",
       "\\textbf{Covariance Type:}   &    nonrobust     & \\textbf{                     } &             \\\\\n",
       "\\bottomrule\n",
       "\\end{tabular}\n",
       "\\begin{tabular}{lcccccc}\n",
       "                            & \\textbf{coef} & \\textbf{std err} & \\textbf{t} & \\textbf{P$> |$t$|$} & \\textbf{[0.025} & \\textbf{0.975]}  \\\\\n",
       "\\midrule\n",
       "\\textbf{const}              &      80.3071  &        1.019     &    78.813  &         0.000        &       78.289    &       82.325     \\\\\n",
       "\\textbf{Adult\\_Mortality}   &      -0.0550  &        0.006     &    -9.929  &         0.000        &       -0.066    &       -0.044     \\\\\n",
       "\\textbf{Infant\\_Deaths}     &       0.0886  &        0.050     &     1.788  &         0.076        &       -0.010    &        0.187     \\\\\n",
       "\\textbf{Underfive\\_Deaths } &      -0.0760  &        0.038     &    -1.975  &         0.051        &       -0.152    &        0.000     \\\\\n",
       "\\textbf{Population}         &    4.736e-09  &     1.31e-08     &     0.361  &         0.718        &    -2.12e-08    &     3.07e-08     \\\\\n",
       "\\bottomrule\n",
       "\\end{tabular}\n",
       "\\begin{tabular}{lclc}\n",
       "\\textbf{Omnibus:}       & 54.418 & \\textbf{  Durbin-Watson:     } &    1.537  \\\\\n",
       "\\textbf{Prob(Omnibus):} &  0.000 & \\textbf{  Jarque-Bera (JB):  } &  143.042  \\\\\n",
       "\\textbf{Skew:}          & -1.738 & \\textbf{  Prob(JB):          } & 8.69e-32  \\\\\n",
       "\\textbf{Kurtosis:}      &  6.949 & \\textbf{  Cond. No.          } & 8.72e+07  \\\\\n",
       "\\bottomrule\n",
       "\\end{tabular}\n",
       "%\\caption{OLS Regression Results}\n",
       "\\end{center}\n",
       "\n",
       "Notes: \\newline\n",
       " [1] Standard Errors assume that the covariance matrix of the errors is correctly specified. \\newline\n",
       " [2] The condition number is large, 8.72e+07. This might indicate that there are \\newline\n",
       " strong multicollinearity or other numerical problems."
      ],
      "text/plain": [
       "<class 'statsmodels.iolib.summary.Summary'>\n",
       "\"\"\"\n",
       "                            OLS Regression Results                            \n",
       "==============================================================================\n",
       "Dep. Variable:               Expected   R-squared:                       0.531\n",
       "Model:                            OLS   Adj. R-squared:                  0.515\n",
       "Method:                 Least Squares   F-statistic:                     33.68\n",
       "Date:                Thu, 20 Feb 2025   Prob (F-statistic):           8.93e-19\n",
       "Time:                        09:09:10   Log-Likelihood:                -393.41\n",
       "No. Observations:                 124   AIC:                             796.8\n",
       "Df Residuals:                     119   BIC:                             810.9\n",
       "Df Model:                           4                                         \n",
       "Covariance Type:            nonrobust                                         \n",
       "=====================================================================================\n",
       "                        coef    std err          t      P>|t|      [0.025      0.975]\n",
       "-------------------------------------------------------------------------------------\n",
       "const                80.3071      1.019     78.813      0.000      78.289      82.325\n",
       "Adult_Mortality      -0.0550      0.006     -9.929      0.000      -0.066      -0.044\n",
       "Infant_Deaths         0.0886      0.050      1.788      0.076      -0.010       0.187\n",
       "Underfive_Deaths     -0.0760      0.038     -1.975      0.051      -0.152       0.000\n",
       "Population         4.736e-09   1.31e-08      0.361      0.718   -2.12e-08    3.07e-08\n",
       "==============================================================================\n",
       "Omnibus:                       54.418   Durbin-Watson:                   1.537\n",
       "Prob(Omnibus):                  0.000   Jarque-Bera (JB):              143.042\n",
       "Skew:                          -1.738   Prob(JB):                     8.69e-32\n",
       "Kurtosis:                       6.949   Cond. No.                     8.72e+07\n",
       "==============================================================================\n",
       "\n",
       "Notes:\n",
       "[1] Standard Errors assume that the covariance matrix of the errors is correctly specified.\n",
       "[2] The condition number is large, 8.72e+07. This might indicate that there are\n",
       "strong multicollinearity or other numerical problems.\n",
       "\"\"\""
      ]
     },
     "execution_count": 31,
     "metadata": {},
     "output_type": "execute_result"
    }
   ],
   "source": [
    "X = df.iloc[:,[2,3,7,12]]\n",
    "y = df['Expected']\n",
    "X_const = sm.add_constant(X)\n",
    "mlr_model = sm.OLS(y,X_const).fit()\n",
    "mlr_model.summary()"
   ]
  },
  {
   "cell_type": "markdown",
   "metadata": {
    "collapsed": true,
    "id": "hXAGbS1BO5ML",
    "jupyter": {
     "outputs_hidden": true
    }
   },
   "source": [
    "<table align=\"left\">\n",
    "    <tr>\n",
    "        <td width=\"6%\">\n",
    "            <img src=\"question_icon.png\">\n",
    "        </td>\n",
    "        <td>\n",
    "            <div align=\"left\", style=\"font-size:120%\">\n",
    "                <font color=\"#21618C\">\n",
    "                    <b>9. Fit a full model and test the significance of the overall model. <br></b>\n",
    "                </font>\n",
    "            </div>\n",
    "        </td>\n",
    "    </tr>\n",
    "</table>"
   ]
  },
  {
   "cell_type": "code",
   "execution_count": 32,
   "metadata": {
    "id": "r8uzfprtO5MM",
    "scrolled": true
   },
   "outputs": [
    {
     "data": {
      "text/plain": [
       "np.float64(1.943066855484839e-36)"
      ]
     },
     "execution_count": 32,
     "metadata": {},
     "output_type": "execute_result"
    }
   ],
   "source": [
    "X = df.drop([\"Country\",\"Expected\",\"Status\"],axis=1)\n",
    "y = df['Expected']\n",
    "\n",
    "encod_status = pd.get_dummies(df['Status'],drop_first = 1,prefix = 'Status',dtype =int)\n",
    "X_encod=pd.concat([X,encod_status],axis=1)\n",
    "X_const = sm.add_constant(X_encod)\n",
    "mlr_model = sm.OLS(y,X_const).fit()\n",
    "mlr_model.summary()\n",
    "mlr_model.f_pvalue\n",
    "\n",
    "\n",
    "#H0: The model is insignificant \n",
    "#H1: The model is significant \n",
    "# if p value is less than alpha we reject hypothesis "
   ]
  },
  {
   "cell_type": "markdown",
   "metadata": {
    "id": "_uR09uDXO5MM"
   },
   "source": [
    "<a id=\"assum\"> </a>\n",
    "## 4. Assumptions of Linear Regression"
   ]
  },
  {
   "cell_type": "markdown",
   "metadata": {
    "collapsed": true,
    "id": "ywO29nb5O5MM",
    "jupyter": {
     "outputs_hidden": true
    }
   },
   "source": [
    "<table align=\"left\">\n",
    "    <tr>\n",
    "        <td width=\"6%\">\n",
    "            <img src=\"question_icon.png\">\n",
    "        </td>\n",
    "        <td>\n",
    "            <div align=\"left\", style=\"font-size:120%\">\n",
    "                <font color=\"#21618C\">\n",
    "                    <b>10. A model is built using all the features (full model) to predict the life expectancy. Check whether the residuals obtained form the model follow a normal distribution.</b>\n",
    "                </font>\n",
    "            </div>\n",
    "        </td>\n",
    "    </tr>\n",
    "</table>"
   ]
  },
  {
   "cell_type": "code",
   "execution_count": 33,
   "metadata": {
    "id": "H4FRK_T4O5MN"
   },
   "outputs": [
    {
     "name": "stdout",
     "output_type": "stream",
     "text": [
      "Test stastistics:  0.9769424921551277\n",
      "pvalue 0.032092184345833184\n"
     ]
    }
   ],
   "source": [
    "from scipy import stats\n",
    "from scipy.stats import shapiro\n",
    "\n",
    "X = df.drop([\"Country\",\"Expected\",\"Status\"],axis=1)\n",
    "y = df['Expected']\n",
    "\n",
    "encod_status = pd.get_dummies(df['Status'],drop_first = 1,prefix = 'Status',dtype =int)\n",
    "X_encod=pd.concat([X,encod_status],axis=1)\n",
    "X_const = sm.add_constant(X_encod)\n",
    "mlr_model = sm.OLS(y,X_const).fit()\n",
    "mlr_model.summary()\n",
    "mlr_model.f_pvalue\n",
    "stats,pvalue=shapiro(mlr_model.resid)\n",
    "print('Test stastistics: ', stats)\n",
    "\n",
    "print('pvalue',pvalue)\n",
    "\n",
    "#H0: The model is insignificant \n",
    "#H1: The model is significant \n",
    "# if p value is less than alpha we reject hypothesis \n"
   ]
  },
  {
   "cell_type": "code",
   "execution_count": 34,
   "metadata": {},
   "outputs": [
    {
     "data": {
      "text/plain": [
       "<seaborn.axisgrid.FacetGrid at 0x1eb72d5cbf0>"
      ]
     },
     "execution_count": 34,
     "metadata": {},
     "output_type": "execute_result"
    },
    {
     "data": {
      "image/png": "[encoded data removed]",
      "text/plain": [
       "<Figure size 500x500 with 1 Axes>"
      ]
     },
     "metadata": {},
     "output_type": "display_data"
    }
   ],
   "source": [
    "sns.displot(mlr_model.resid)"
   ]
  },
  {
   "cell_type": "markdown",
   "metadata": {
    "collapsed": true,
    "id": "7V3GmHr-O5MN",
    "jupyter": {
     "outputs_hidden": true
    }
   },
   "source": [
    "<table align=\"left\">\n",
    "    <tr>\n",
    "        <td width=\"6%\">\n",
    "            <img src=\"question_icon.png\">\n",
    "        </td>\n",
    "        <td>\n",
    "            <div align=\"left\", style=\"font-size:120%\">\n",
    "                <font color=\"#21618C\">\n",
    "                        <b>11. Does the interaction of status of the country and its GDP have significant effect on life expectancy? (consider the full model)</b>\n",
    "                </font>\n",
    "            </div>\n",
    "        </td>\n",
    "    </tr>\n",
    "</table>"
   ]
  },
  {
   "cell_type": "code",
   "execution_count": 35,
   "metadata": {
    "id": "LryhYdF4O5MN"
   },
   "outputs": [
    {
     "data": {
      "text/plain": [
       "Index(['Country', 'Status', 'Adult_Mortality', 'Infant_Deaths', 'Hepatitis ',\n",
       "       'Measles ', ' BMI ', 'Underfive_Deaths ', 'Polio', 'Diphtheria ',\n",
       "       ' HIV', 'GDP', 'Population', 'Malnourished10_19 ', 'Malnourished5_9',\n",
       "       'Income_Index', 'Schooling', 'Expected'],\n",
       "      dtype='object')"
      ]
     },
     "execution_count": 35,
     "metadata": {},
     "output_type": "execute_result"
    }
   ],
   "source": [
    "df.columns\n"
   ]
  },
  {
   "cell_type": "code",
   "execution_count": 36,
   "metadata": {},
   "outputs": [
    {
     "data": {
      "text/html": [
       "<table class=\"simpletable\">\n",
       "<caption>OLS Regression Results</caption>\n",
       "<tr>\n",
       "  <th>Dep. Variable:</th>        <td>Expected</td>     <th>  R-squared:         </th> <td>   0.423</td>\n",
       "</tr>\n",
       "<tr>\n",
       "  <th>Model:</th>                   <td>OLS</td>       <th>  Adj. R-squared:    </th> <td>   0.408</td>\n",
       "</tr>\n",
       "<tr>\n",
       "  <th>Method:</th>             <td>Least Squares</td>  <th>  F-statistic:       </th> <td>   29.30</td>\n",
       "</tr>\n",
       "<tr>\n",
       "  <th>Date:</th>             <td>Thu, 20 Feb 2025</td> <th>  Prob (F-statistic):</th> <td>2.76e-14</td>\n",
       "</tr>\n",
       "<tr>\n",
       "  <th>Time:</th>                 <td>09:09:11</td>     <th>  Log-Likelihood:    </th> <td> -406.27</td>\n",
       "</tr>\n",
       "<tr>\n",
       "  <th>No. Observations:</th>      <td>   124</td>      <th>  AIC:               </th> <td>   820.5</td>\n",
       "</tr>\n",
       "<tr>\n",
       "  <th>Df Residuals:</th>          <td>   120</td>      <th>  BIC:               </th> <td>   831.8</td>\n",
       "</tr>\n",
       "<tr>\n",
       "  <th>Df Model:</th>              <td>     3</td>      <th>                     </th>     <td> </td>   \n",
       "</tr>\n",
       "<tr>\n",
       "  <th>Covariance Type:</th>      <td>nonrobust</td>    <th>                     </th>     <td> </td>   \n",
       "</tr>\n",
       "</table>\n",
       "<table class=\"simpletable\">\n",
       "<tr>\n",
       "          <td></td>             <th>coef</th>     <th>std err</th>      <th>t</th>      <th>P>|t|</th>  <th>[0.025</th>    <th>0.975]</th>  \n",
       "</tr>\n",
       "<tr>\n",
       "  <th>const</th>             <td>   80.9524</td> <td>    1.990</td> <td>   40.675</td> <td> 0.000</td> <td>   77.012</td> <td>   84.893</td>\n",
       "</tr>\n",
       "<tr>\n",
       "  <th>GDP</th>               <td> 1.283e-05</td> <td> 8.43e-05</td> <td>    0.152</td> <td> 0.879</td> <td>   -0.000</td> <td>    0.000</td>\n",
       "</tr>\n",
       "<tr>\n",
       "  <th>Status_Developing</th> <td>  -14.0075</td> <td>    2.130</td> <td>   -6.576</td> <td> 0.000</td> <td>  -18.225</td> <td>   -9.790</td>\n",
       "</tr>\n",
       "<tr>\n",
       "  <th>interaction</th>       <td>    0.0005</td> <td>    0.000</td> <td>    3.961</td> <td> 0.000</td> <td>    0.000</td> <td>    0.001</td>\n",
       "</tr>\n",
       "</table>\n",
       "<table class=\"simpletable\">\n",
       "<tr>\n",
       "  <th>Omnibus:</th>       <td> 4.249</td> <th>  Durbin-Watson:     </th> <td>   1.481</td>\n",
       "</tr>\n",
       "<tr>\n",
       "  <th>Prob(Omnibus):</th> <td> 0.119</td> <th>  Jarque-Bera (JB):  </th> <td>   3.697</td>\n",
       "</tr>\n",
       "<tr>\n",
       "  <th>Skew:</th>          <td>-0.398</td> <th>  Prob(JB):          </th> <td>   0.157</td>\n",
       "</tr>\n",
       "<tr>\n",
       "  <th>Kurtosis:</th>      <td> 3.286</td> <th>  Cond. No.          </th> <td>7.14e+04</td>\n",
       "</tr>\n",
       "</table><br/><br/>Notes:<br/>[1] Standard Errors assume that the covariance matrix of the errors is correctly specified.<br/>[2] The condition number is large, 7.14e+04. This might indicate that there are<br/>strong multicollinearity or other numerical problems."
      ],
      "text/latex": [
       "\\begin{center}\n",
       "\\begin{tabular}{lclc}\n",
       "\\toprule\n",
       "\\textbf{Dep. Variable:}     &     Expected     & \\textbf{  R-squared:         } &     0.423   \\\\\n",
       "\\textbf{Model:}             &       OLS        & \\textbf{  Adj. R-squared:    } &     0.408   \\\\\n",
       "\\textbf{Method:}            &  Least Squares   & \\textbf{  F-statistic:       } &     29.30   \\\\\n",
       "\\textbf{Date:}              & Thu, 20 Feb 2025 & \\textbf{  Prob (F-statistic):} &  2.76e-14   \\\\\n",
       "\\textbf{Time:}              &     09:09:11     & \\textbf{  Log-Likelihood:    } &   -406.27   \\\\\n",
       "\\textbf{No. Observations:}  &         124      & \\textbf{  AIC:               } &     820.5   \\\\\n",
       "\\textbf{Df Residuals:}      &         120      & \\textbf{  BIC:               } &     831.8   \\\\\n",
       "\\textbf{Df Model:}          &           3      & \\textbf{                     } &             \\\\\n",
       "\\textbf{Covariance Type:}   &    nonrobust     & \\textbf{                     } &             \\\\\n",
       "\\bottomrule\n",
       "\\end{tabular}\n",
       "\\begin{tabular}{lcccccc}\n",
       "                            & \\textbf{coef} & \\textbf{std err} & \\textbf{t} & \\textbf{P$> |$t$|$} & \\textbf{[0.025} & \\textbf{0.975]}  \\\\\n",
       "\\midrule\n",
       "\\textbf{const}              &      80.9524  &        1.990     &    40.675  &         0.000        &       77.012    &       84.893     \\\\\n",
       "\\textbf{GDP}                &    1.283e-05  &     8.43e-05     &     0.152  &         0.879        &       -0.000    &        0.000     \\\\\n",
       "\\textbf{Status\\_Developing} &     -14.0075  &        2.130     &    -6.576  &         0.000        &      -18.225    &       -9.790     \\\\\n",
       "\\textbf{interaction}        &       0.0005  &        0.000     &     3.961  &         0.000        &        0.000    &        0.001     \\\\\n",
       "\\bottomrule\n",
       "\\end{tabular}\n",
       "\\begin{tabular}{lclc}\n",
       "\\textbf{Omnibus:}       &  4.249 & \\textbf{  Durbin-Watson:     } &    1.481  \\\\\n",
       "\\textbf{Prob(Omnibus):} &  0.119 & \\textbf{  Jarque-Bera (JB):  } &    3.697  \\\\\n",
       "\\textbf{Skew:}          & -0.398 & \\textbf{  Prob(JB):          } &    0.157  \\\\\n",
       "\\textbf{Kurtosis:}      &  3.286 & \\textbf{  Cond. No.          } & 7.14e+04  \\\\\n",
       "\\bottomrule\n",
       "\\end{tabular}\n",
       "%\\caption{OLS Regression Results}\n",
       "\\end{center}\n",
       "\n",
       "Notes: \\newline\n",
       " [1] Standard Errors assume that the covariance matrix of the errors is correctly specified. \\newline\n",
       " [2] The condition number is large, 7.14e+04. This might indicate that there are \\newline\n",
       " strong multicollinearity or other numerical problems."
      ],
      "text/plain": [
       "<class 'statsmodels.iolib.summary.Summary'>\n",
       "\"\"\"\n",
       "                            OLS Regression Results                            \n",
       "==============================================================================\n",
       "Dep. Variable:               Expected   R-squared:                       0.423\n",
       "Model:                            OLS   Adj. R-squared:                  0.408\n",
       "Method:                 Least Squares   F-statistic:                     29.30\n",
       "Date:                Thu, 20 Feb 2025   Prob (F-statistic):           2.76e-14\n",
       "Time:                        09:09:11   Log-Likelihood:                -406.27\n",
       "No. Observations:                 124   AIC:                             820.5\n",
       "Df Residuals:                     120   BIC:                             831.8\n",
       "Df Model:                           3                                         \n",
       "Covariance Type:            nonrobust                                         \n",
       "=====================================================================================\n",
       "                        coef    std err          t      P>|t|      [0.025      0.975]\n",
       "-------------------------------------------------------------------------------------\n",
       "const                80.9524      1.990     40.675      0.000      77.012      84.893\n",
       "GDP                1.283e-05   8.43e-05      0.152      0.879      -0.000       0.000\n",
       "Status_Developing   -14.0075      2.130     -6.576      0.000     -18.225      -9.790\n",
       "interaction           0.0005      0.000      3.961      0.000       0.000       0.001\n",
       "==============================================================================\n",
       "Omnibus:                        4.249   Durbin-Watson:                   1.481\n",
       "Prob(Omnibus):                  0.119   Jarque-Bera (JB):                3.697\n",
       "Skew:                          -0.398   Prob(JB):                        0.157\n",
       "Kurtosis:                       3.286   Cond. No.                     7.14e+04\n",
       "==============================================================================\n",
       "\n",
       "Notes:\n",
       "[1] Standard Errors assume that the covariance matrix of the errors is correctly specified.\n",
       "[2] The condition number is large, 7.14e+04. This might indicate that there are\n",
       "strong multicollinearity or other numerical problems.\n",
       "\"\"\""
      ]
     },
     "execution_count": 36,
     "metadata": {},
     "output_type": "execute_result"
    }
   ],
   "source": [
    "X = df.iloc[:,11]\n",
    "y = df['Expected']\n",
    "encod_status = pd.get_dummies(df['Status'],drop_first = 1,prefix = 'Status',dtype =int)\n",
    "X_encod=pd.concat([X,encod_status],axis=1)\n",
    "X_encod.head()\n",
    "X_encod['interaction']=X_encod['Status_Developing']*X_encod['GDP']\n",
    "\n",
    "y = df['Expected']\n",
    "X_const = sm.add_constant(X_encod)\n",
    "mlr_model = sm.OLS(y,X_const).fit()\n",
    "mlr_model.summary()\n",
    "\n",
    "\n"
   ]
  },
  {
   "cell_type": "markdown",
   "metadata": {
    "collapsed": true,
    "id": "YZZJu6XwO5MO",
    "jupyter": {
     "outputs_hidden": true
    }
   },
   "source": [
    "<table align=\"left\">\n",
    "    <tr>\n",
    "        <td width=\"6%\">\n",
    "            <img src=\"question_icon.png\">\n",
    "        </td>\n",
    "        <td>\n",
    "            <div align=\"left\", style=\"font-size:120%\">\n",
    "                <font color=\"#21618C\">\n",
    "                    <b>12. Construct a full no-intecept model. What would you conclude when all the variables take value 0? </b>\n",
    "                </font>\n",
    "            </div>\n",
    "        </td>\n",
    "    </tr>\n",
    "</table>"
   ]
  },
  {
   "cell_type": "code",
   "execution_count": 38,
   "metadata": {
    "id": "7MBBGcpBO5MO"
   },
   "outputs": [],
   "source": []
  },
  {
   "cell_type": "markdown",
   "metadata": {
    "id": "_psdp46uO5MO"
   },
   "source": [
    "### Hereon on we shall consider the FEV dataset.\n"
   ]
  },
  {
   "cell_type": "markdown",
   "metadata": {
    "id": "JG0CDoZZO5MO"
   },
   "source": [
    "### About the data set (Respiratory function data)\n",
    "\n",
    "Dataset consists of information about respiratory function in children and adolescents and factors that might impact the respiratory function. <br> Attribute information: \n",
    "\n",
    "**Age:** Age in years\n",
    "\n",
    "**Height:** Height in inches \n",
    "\n",
    "**Gender:** Gender value is 1 if male 0 if female\n",
    "\n",
    "**Smoke:** Whether the person is a smoker or non- smoker, the value is 1 if smoker and 0 otherwise\n",
    "\n",
    "**FEV:**  Forced Exhalation Volume (FEV), a measure of how much air somebody can forcibly exhale from their lung (Percentage)"
   ]
  },
  {
   "cell_type": "markdown",
   "metadata": {
    "id": "EwyRs_6YO5MP"
   },
   "source": [
    "#### Load the dataset and check the first five observations"
   ]
  },
  {
   "cell_type": "code",
   "execution_count": 37,
   "metadata": {
    "id": "O_X3x9-eO5MP"
   },
   "outputs": [
    {
     "data": {
      "text/html": [
       "<div>\n",
       "<style scoped>\n",
       "    .dataframe tbody tr th:only-of-type {\n",
       "        vertical-align: middle;\n",
       "    }\n",
       "\n",
       "    .dataframe tbody tr th {\n",
       "        vertical-align: top;\n",
       "    }\n",
       "\n",
       "    .dataframe thead th {\n",
       "        text-align: right;\n",
       "    }\n",
       "</style>\n",
       "<table border=\"1\" class=\"dataframe\">\n",
       "  <thead>\n",
       "    <tr style=\"text-align: right;\">\n",
       "      <th></th>\n",
       "      <th>Age</th>\n",
       "      <th>Height</th>\n",
       "      <th>Gender</th>\n",
       "      <th>Smoke</th>\n",
       "      <th>FEV</th>\n",
       "    </tr>\n",
       "  </thead>\n",
       "  <tbody>\n",
       "    <tr>\n",
       "      <th>0</th>\n",
       "      <td>9</td>\n",
       "      <td>57.0</td>\n",
       "      <td>0</td>\n",
       "      <td>0</td>\n",
       "      <td>1.708</td>\n",
       "    </tr>\n",
       "    <tr>\n",
       "      <th>1</th>\n",
       "      <td>8</td>\n",
       "      <td>67.5</td>\n",
       "      <td>0</td>\n",
       "      <td>0</td>\n",
       "      <td>1.724</td>\n",
       "    </tr>\n",
       "    <tr>\n",
       "      <th>2</th>\n",
       "      <td>7</td>\n",
       "      <td>54.5</td>\n",
       "      <td>0</td>\n",
       "      <td>0</td>\n",
       "      <td>1.720</td>\n",
       "    </tr>\n",
       "    <tr>\n",
       "      <th>3</th>\n",
       "      <td>9</td>\n",
       "      <td>53.0</td>\n",
       "      <td>1</td>\n",
       "      <td>0</td>\n",
       "      <td>1.558</td>\n",
       "    </tr>\n",
       "    <tr>\n",
       "      <th>4</th>\n",
       "      <td>9</td>\n",
       "      <td>57.0</td>\n",
       "      <td>1</td>\n",
       "      <td>0</td>\n",
       "      <td>1.895</td>\n",
       "    </tr>\n",
       "  </tbody>\n",
       "</table>\n",
       "</div>"
      ],
      "text/plain": [
       "   Age  Height  Gender  Smoke    FEV\n",
       "0    9    57.0       0      0  1.708\n",
       "1    8    67.5       0      0  1.724\n",
       "2    7    54.5       0      0  1.720\n",
       "3    9    53.0       1      0  1.558\n",
       "4    9    57.0       1      0  1.895"
      ]
     },
     "execution_count": 37,
     "metadata": {},
     "output_type": "execute_result"
    }
   ],
   "source": [
    "# load the csv file\n",
    "# type your code here\n",
    "df=pd.read_csv('LungCapdata.csv')\n",
    "df.head()"
   ]
  },
  {
   "cell_type": "markdown",
   "metadata": {
    "collapsed": true,
    "id": "hmpLbIshO5MP",
    "jupyter": {
     "outputs_hidden": true
    }
   },
   "source": [
    "<table align=\"left\">\n",
    "    <tr>\n",
    "        <td width=\"6%\">\n",
    "            <img src=\"question_icon.png\">\n",
    "        </td>\n",
    "        <td>\n",
    "            <div align=\"left\", style=\"font-size:120%\">\n",
    "                <font color=\"#21618C\">\n",
    "                    <b>13. Can we use a linear regression model to analyze the impact of all the features on respiratory function (FEV) ? </b>\n",
    "                </font>\n",
    "            </div>\n",
    "        </td>\n",
    "    </tr>\n",
    "</table>"
   ]
  },
  {
   "cell_type": "code",
   "execution_count": 47,
   "metadata": {
    "id": "GbFiDmBpO5MQ"
   },
   "outputs": [
    {
     "data": {
      "text/plain": [
       "<Axes: >"
      ]
     },
     "execution_count": 47,
     "metadata": {},
     "output_type": "execute_result"
    },
    {
     "data": {
      "image/png": "[encoded data removed]",
      "text/plain": [
       "<Figure size 500x300 with 2 Axes>"
      ]
     },
     "metadata": {},
     "output_type": "display_data"
    }
   ],
   "source": [
    "x=df.drop('FEV',axis=1)\n",
    "y=df['FEV']\n",
    "X_const=sm.add_constant(x)\n",
    "mlr_model=sm.OLS(y,X_const).fit()\n",
    "mlr_model.summary()\n",
    "\n",
    "plt.subplots(figsize=(5,3))\n",
    "sns.heatmap(df.corr(),annot=True,annot_kws={'size':10})\n"
   ]
  },
  {
   "cell_type": "markdown",
   "metadata": {
    "collapsed": true,
    "id": "7Di4izVBO5MQ",
    "jupyter": {
     "outputs_hidden": true
    }
   },
   "source": [
    "<table align=\"left\">\n",
    "    <tr>\n",
    "        <td width=\"6%\">\n",
    "            <img src=\"question_icon.png\">\n",
    "        </td>\n",
    "        <td>\n",
    "            <div align=\"left\", style=\"font-size:120%\">\n",
    "                <font color=\"#21618C\">\n",
    "                    <b>14. How can we rectify the multicollinearity detected in question 13? </b>\n",
    "                </font>\n",
    "            </div>\n",
    "        </td>\n",
    "    </tr>\n",
    "</table>"
   ]
  },
  {
   "cell_type": "code",
   "execution_count": 48,
   "metadata": {
    "id": "mjUSdE2BO5MQ"
   },
   "outputs": [],
   "source": [
    "from statsmodels.stats.outliers_influence import variance_inflation_factor"
   ]
  },
  {
   "cell_type": "code",
   "execution_count": 49,
   "metadata": {},
   "outputs": [
    {
     "data": {
      "text/plain": [
       "Index(['Age', 'Height', 'Gender', 'Smoke', 'FEV'], dtype='object')"
      ]
     },
     "execution_count": 49,
     "metadata": {},
     "output_type": "execute_result"
    }
   ],
   "source": [
    "df.columns"
   ]
  },
  {
   "cell_type": "code",
   "execution_count": 83,
   "metadata": {},
   "outputs": [
    {
     "name": "stdout",
     "output_type": "stream",
     "text": [
      "   VIF_factor Features\n",
      "0   24.322098      Age\n",
      "1   24.524524   Height\n",
      "2    2.130851   Gender\n",
      "3    1.342164    Smoke\n"
     ]
    }
   ],
   "source": [
    "x=df.iloc[:,:-1]\n",
    "# x=df.iloc[1:10,1:-1]   # when age is removed we find then correlation kam ho jata hai i.e. close to 1\n",
    "vif=pd.DataFrame()\n",
    "vif['VIF_factor'] = [variance_inflation_factor(x.values,i)for i in range (x.shape[1])]\n",
    "vif['Features']=x.columns\n",
    "print(vif)\n"
   ]
  },
  {
   "cell_type": "code",
   "execution_count": 79,
   "metadata": {},
   "outputs": [
    {
     "data": {
      "text/html": [
       "<div>\n",
       "<style scoped>\n",
       "    .dataframe tbody tr th:only-of-type {\n",
       "        vertical-align: middle;\n",
       "    }\n",
       "\n",
       "    .dataframe tbody tr th {\n",
       "        vertical-align: top;\n",
       "    }\n",
       "\n",
       "    .dataframe thead th {\n",
       "        text-align: right;\n",
       "    }\n",
       "</style>\n",
       "<table border=\"1\" class=\"dataframe\">\n",
       "  <thead>\n",
       "    <tr style=\"text-align: right;\">\n",
       "      <th></th>\n",
       "      <th>Height</th>\n",
       "      <th>Gender</th>\n",
       "      <th>Smoke</th>\n",
       "    </tr>\n",
       "  </thead>\n",
       "  <tbody>\n",
       "    <tr>\n",
       "      <th>1</th>\n",
       "      <td>67.5</td>\n",
       "      <td>0</td>\n",
       "      <td>0</td>\n",
       "    </tr>\n",
       "    <tr>\n",
       "      <th>2</th>\n",
       "      <td>54.5</td>\n",
       "      <td>0</td>\n",
       "      <td>0</td>\n",
       "    </tr>\n",
       "    <tr>\n",
       "      <th>3</th>\n",
       "      <td>53.0</td>\n",
       "      <td>1</td>\n",
       "      <td>0</td>\n",
       "    </tr>\n",
       "    <tr>\n",
       "      <th>4</th>\n",
       "      <td>57.0</td>\n",
       "      <td>1</td>\n",
       "      <td>0</td>\n",
       "    </tr>\n",
       "    <tr>\n",
       "      <th>5</th>\n",
       "      <td>61.0</td>\n",
       "      <td>0</td>\n",
       "      <td>0</td>\n",
       "    </tr>\n",
       "    <tr>\n",
       "      <th>6</th>\n",
       "      <td>58.0</td>\n",
       "      <td>0</td>\n",
       "      <td>0</td>\n",
       "    </tr>\n",
       "    <tr>\n",
       "      <th>7</th>\n",
       "      <td>56.0</td>\n",
       "      <td>0</td>\n",
       "      <td>0</td>\n",
       "    </tr>\n",
       "    <tr>\n",
       "      <th>8</th>\n",
       "      <td>58.5</td>\n",
       "      <td>0</td>\n",
       "      <td>0</td>\n",
       "    </tr>\n",
       "    <tr>\n",
       "      <th>9</th>\n",
       "      <td>60.0</td>\n",
       "      <td>0</td>\n",
       "      <td>0</td>\n",
       "    </tr>\n",
       "  </tbody>\n",
       "</table>\n",
       "</div>"
      ],
      "text/plain": [
       "   Height  Gender  Smoke\n",
       "1    67.5       0      0\n",
       "2    54.5       0      0\n",
       "3    53.0       1      0\n",
       "4    57.0       1      0\n",
       "5    61.0       0      0\n",
       "6    58.0       0      0\n",
       "7    56.0       0      0\n",
       "8    58.5       0      0\n",
       "9    60.0       0      0"
      ]
     },
     "execution_count": 79,
     "metadata": {},
     "output_type": "execute_result"
    }
   ],
   "source": [
    "df.iloc[1:10,1:-1]\n",
    "# x.shape"
   ]
  },
  {
   "cell_type": "markdown",
   "metadata": {
    "collapsed": true,
    "id": "0IXqRaw9O5MR",
    "jupyter": {
     "outputs_hidden": true
    }
   },
   "source": [
    "<table align=\"left\">\n",
    "    <tr>\n",
    "        <td width=\"6%\">\n",
    "            <img src=\"question_icon.png\">\n",
    "        </td>\n",
    "        <td>\n",
    "            <div align=\"left\", style=\"font-size:120%\">\n",
    "                <font color=\"#21618C\">\n",
    "                    <b>15. A Linear regression model is used to analyze the impact of all possible features on respiratory function (FEV). How do we check whether or not the model adequately captures the relationship between the response and predictor variables?</b>\n",
    "                </font>\n",
    "            </div>\n",
    "        </td>\n",
    "    </tr>\n",
    "</table>"
   ]
  },
  {
   "cell_type": "code",
   "execution_count": null,
   "metadata": {},
   "outputs": [],
   "source": []
  },
  {
   "cell_type": "code",
   "execution_count": 40,
   "metadata": {
    "id": "wY4GwmMDO5MR"
   },
   "outputs": [],
   "source": [
    "# type your code here"
   ]
  },
  {
   "cell_type": "markdown",
   "metadata": {
    "collapsed": true,
    "id": "8vAUczGGO5MR",
    "jupyter": {
     "outputs_hidden": true
    }
   },
   "source": [
    "<table align=\"left\">\n",
    "    <tr>\n",
    "        <td width=\"6%\">\n",
    "            <img src=\"question_icon.png\">\n",
    "        </td>\n",
    "        <td>\n",
    "            <div align=\"left\", style=\"font-size:120%\">\n",
    "                <font color=\"#21618C\">\n",
    "                    <b>16.  A Linear regression model is used to analyze the impact of all possible features on respiratory function (FEV). Check whether the error terms are serially independent?</b>\n",
    "                </font>\n",
    "            </div>\n",
    "        </td>\n",
    "    </tr>\n",
    "</table>"
   ]
  },
  {
   "cell_type": "code",
   "execution_count": 41,
   "metadata": {
    "id": "RlYOqgS5O5MR"
   },
   "outputs": [],
   "source": [
    "# type your code here"
   ]
  },
  {
   "cell_type": "markdown",
   "metadata": {
    "collapsed": true,
    "id": "-Z1hABHHO5MS",
    "jupyter": {
     "outputs_hidden": true
    }
   },
   "source": [
    "<table align=\"left\">\n",
    "    <tr>\n",
    "        <td width=\"6%\">\n",
    "            <img src=\"question_icon.png\">\n",
    "        </td>\n",
    "        <td>\n",
    "            <div align=\"left\", style=\"font-size:120%\">\n",
    "                <font color=\"#21618C\">\n",
    "                    <b>17. A model is built using all the features to predict the FEV. Check whether the residuals obtained form the model are normally distributed. </b>\n",
    "                </font>\n",
    "            </div>\n",
    "        </td>\n",
    "    </tr>\n",
    "</table>"
   ]
  },
  {
   "cell_type": "code",
   "execution_count": 42,
   "metadata": {
    "id": "GrOuG1AuO5MS"
   },
   "outputs": [],
   "source": [
    "# type your code here"
   ]
  },
  {
   "cell_type": "markdown",
   "metadata": {
    "id": "tjQAepY3O5MS"
   },
   "source": [
    "<a id=\"ml_perf\"> </a>\n",
    "## 6. Model Performance"
   ]
  },
  {
   "cell_type": "markdown",
   "metadata": {
    "collapsed": true,
    "id": "7B08gHDuO5MS",
    "jupyter": {
     "outputs_hidden": true
    }
   },
   "source": [
    "<table align=\"left\">\n",
    "    <tr>\n",
    "        <td width=\"6%\">\n",
    "            <img src=\"question_icon.png\">\n",
    "        </td>\n",
    "        <td>\n",
    "            <div align=\"left\", style=\"font-size:120%\">\n",
    "                <font color=\"#21618C\">\n",
    "                    <b>18. Consider the full model. Calculate the mean square error and the root mean square error.</b>\n",
    "                </font>\n",
    "            </div>\n",
    "        </td>\n",
    "    </tr>\n",
    "</table>"
   ]
  },
  {
   "cell_type": "code",
   "execution_count": 43,
   "metadata": {
    "id": "WG9a_D6-O5MT"
   },
   "outputs": [],
   "source": [
    "# type your code here"
   ]
  },
  {
   "cell_type": "markdown",
   "metadata": {
    "collapsed": true,
    "id": "Teaa86lWO5MT",
    "jupyter": {
     "outputs_hidden": true
    }
   },
   "source": [
    "<table align=\"left\">\n",
    "    <tr>\n",
    "        <td width=\"6%\">\n",
    "            <img src=\"question_icon.png\">\n",
    "        </td>\n",
    "        <td>\n",
    "            <div align=\"left\", style=\"font-size:120%\">\n",
    "                <font color=\"#21618C\">\n",
    "                    <b>19. Calculate the mean absolute error and the  mean absolute percentage error. Compare the values of RMSE and MAE. </b>\n",
    "                </font>\n",
    "            </div>\n",
    "        </td>\n",
    "    </tr>\n",
    "</table>"
   ]
  },
  {
   "cell_type": "code",
   "execution_count": 44,
   "metadata": {
    "id": "-Cn8CnlhO5MT"
   },
   "outputs": [],
   "source": [
    "# type your code here"
   ]
  },
  {
   "cell_type": "markdown",
   "metadata": {
    "collapsed": true,
    "id": "7_zVqMlmO5MT",
    "jupyter": {
     "outputs_hidden": true
    }
   },
   "source": [
    "<table align=\"left\">\n",
    "    <tr>\n",
    "        <td width=\"6%\">\n",
    "            <img src=\"question_icon.png\">\n",
    "        </td>\n",
    "        <td>\n",
    "            <div align=\"left\", style=\"font-size:120%\">\n",
    "                <font color=\"#21618C\">\n",
    "                    <b>20. Consider the full model, has the model overfitted? </b>\n",
    "                </font>\n",
    "            </div>\n",
    "        </td>\n",
    "    </tr>\n",
    "</table>"
   ]
  },
  {
   "cell_type": "code",
   "execution_count": 45,
   "metadata": {
    "id": "0_2RqsIaO5MT"
   },
   "outputs": [],
   "source": [
    "# type your code here"
   ]
  }
 ],
 "metadata": {
  "colab": {
   "collapsed_sections": [],
   "name": "SLR - In-Class - Lab Exercise (Week-1) - Questions  .ipynb",
   "provenance": []
  },
  "kernelspec": {
   "display_name": "Python 3",
   "language": "python",
   "name": "python3"
  },
  "language_info": {
   "codemirror_mode": {
    "name": "ipython",
    "version": 3
   },
   "file_extension": ".py",
   "mimetype": "text/x-python",
   "name": "python",
   "nbconvert_exporter": "python",
   "pygments_lexer": "ipython3",
   "version": "3.12.2"
  }
 },
 "nbformat": 4,
 "nbformat_minor": 4
}
